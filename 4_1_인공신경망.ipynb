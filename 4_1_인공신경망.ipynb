{
  "nbformat": 4,
  "nbformat_minor": 0,
  "metadata": {
    "colab": {
      "provenance": [],
      "authorship_tag": "ABX9TyNh67nAK2tzqJ3Y5mOsDSXJ",
      "include_colab_link": true
    },
    "kernelspec": {
      "name": "python3",
      "display_name": "Python 3"
    },
    "language_info": {
      "name": "python"
    },
    "accelerator": "GPU",
    "gpuClass": "standard"
  },
  "cells": [
    {
      "cell_type": "markdown",
      "metadata": {
        "id": "view-in-github",
        "colab_type": "text"
      },
      "source": [
        "<a href=\"https://colab.research.google.com/github/imhyunho99/2023-1--Deaplearning_Framework/blob/main/4_1_%EC%9D%B8%EA%B3%B5%EC%8B%A0%EA%B2%BD%EB%A7%9D.ipynb\" target=\"_parent\"><img src=\"https://colab.research.google.com/assets/colab-badge.svg\" alt=\"Open In Colab\"/></a>"
      ]
    },
    {
      "cell_type": "markdown",
      "source": [
        "# 인공신경망 모델의 학습\n",
        "\n",
        "- 3장에서 설명한 부분을 제외하고 주석을 달았습니다.\n",
        "- y = x^2+3"
      ],
      "metadata": {
        "id": "-JMMfHlUS_MT"
      }
    },
    {
      "cell_type": "markdown",
      "source": [
        "**인공신경망 이론**\n",
        "\n",
        "뉴런의 수학적 표현\n",
        "\n",
        "* Node and Edge  \n",
        "* Fully connected layer(전결합계층)\n",
        "\n",
        " 이전 계층의 모든 뉴런과 연결되어있는 계층\n",
        "* Shallow neural network(얕은 신경망)\n",
        "\n",
        "단일 은닉 계층, 전결합계층을 갖는 신경망\n",
        "\n",
        "*   계층의 활성함수\n",
        "\n",
        "Sigmoid 와 Binary search: 은닉 계측\n",
        "\n",
        "Softmax 와 iltople search: 분류문제\n",
        "\n",
        "\n",
        "One - hot Encoding과 이진분류, 다중분류\n",
        "\n",
        "Cross entropy error(크로스 엔트로피 에러, 에러 값은 늘 양수)\n",
        "\n",
        "\n"
      ],
      "metadata": {
        "id": "2yLZnaIcT1O4"
      }
    },
    {
      "cell_type": "code",
      "source": [
        "import torch\n",
        "import torch.nn as nn\n",
        "import torch.optim as optim\n",
        "import torch.nn.init as init"
      ],
      "metadata": {
        "id": "nXzZUAWSTmv5"
      },
      "execution_count": null,
      "outputs": []
    },
    {
      "cell_type": "markdown",
      "source": [
        "## 데이터 생성"
      ],
      "metadata": {
        "id": "RMlLmfJaTpkf"
      }
    },
    {
      "cell_type": "code",
      "source": [
        "num_data = 1000\n",
        "num_epoch = 2000\n",
        "\n",
        "noise = init.normal_(torch.FloatTensor(num_data,1),std=1)\n",
        "x = init.uniform_(torch.Tensor(num_data,1),-15,15)\n",
        "y = (x**2) + 3 \n",
        "y_noise = y + noise"
      ],
      "metadata": {
        "id": "POTFbkGKTvOm"
      },
      "execution_count": null,
      "outputs": []
    },
    {
      "cell_type": "markdown",
      "source": [
        "# 모델, 손실 함수, 최적화 함수 설정"
      ],
      "metadata": {
        "id": "nZRcLJ04TwWk"
      }
    },
    {
      "cell_type": "code",
      "source": [
        "# 3장의 예시처럼 하나의 값이 들어가서 하나의 값이 나오기 때문에 모델의 처음과 끝 특성의 개수는 1개입니다.\n",
        "\n",
        "# https://pytorch.org/docs/stable/nn.html?highlight=sequential\n",
        "# torch.nn.Sequential\n",
        "# Sequential 모듈은 다양한 모듈을 담을 수 있는 일종의 리스트라고 보면 됩니다.\n",
        "# Sequential 에 정의된 순서대로 연산이 진행되며, 많은 연산을 묶어서 한번에 관리할 수 있어서 편리합니다.\n",
        "\n",
        "# 아래 코드는 특성의 개수가 1 -> 6 -> 10 -> 6 -> 1개로 변하는 인공신경망입니다. \n",
        "# 또한 선형변환 이후 활성화 함수를 넣어 비선형성이 생기도록 했습니다.\n",
        "\n",
        "\n",
        "#모델 구조(계층수, 노드수, 활성함수)\n",
        "# 학습 파라미터(Loss 종류, learningmate, ...)\n",
        "#1만 epochs 에서 거정 마자막 loss 값을 최소로 해보자 10.4404(11.754721)\n",
        "model = nn.Sequential(\n",
        "          nn.Linear(1,10),\n",
        "          nn.ReLU(), #각각의 노드에 적용할 활성함수(sigmoid 대신)\n",
        "          nn.Linear(10,10),\n",
        "          nn.ReLU(),\n",
        "          nn.Linear(10,10),#그럼 은닉계층이 두개인건가..?\n",
        "          nn.ReLU(),\n",
        "          nn.Linear(10,1), #출력계층\n",
        "      )\n",
        "\n",
        "loss_func = nn.L1Loss()\n",
        "optimizer = optim.Adam(model.parameters(),lr=0.01) #optim =SGD"
      ],
      "metadata": {
        "id": "gIy0pNcNWlxi"
      },
      "execution_count": null,
      "outputs": []
    },
    {
      "cell_type": "markdown",
      "source": [
        "## 모델의 학습"
      ],
      "metadata": {
        "id": "pv3JaE-QWnTG"
      }
    },
    {
      "cell_type": "code",
      "source": [
        "loss_array = []\n",
        "for i in range(num_epoch):\n",
        "    optimizer.zero_grad()#기울기 초기화\n",
        "    output = model(x)\n",
        "    \n",
        "    loss = loss_func(output,y_noise)\n",
        "    loss.backward()\n",
        "    optimizer.step()\n",
        "    \n",
        "    loss_array.append(loss.detach().numpy())"
      ],
      "metadata": {
        "id": "DQLSFpxRWpwf"
      },
      "execution_count": null,
      "outputs": []
    },
    {
      "cell_type": "code",
      "source": [
        "import matplotlib.pyplot as plt\n",
        "\n",
        "plt.plot(loss_array)\n",
        "plt.show()"
      ],
      "metadata": {
        "colab": {
          "base_uri": "https://localhost:8080/",
          "height": 265
        },
        "id": "lRQpjxD8ulsk",
        "outputId": "b002f9c1-e42e-46a4-c30a-aaafabd44ed8"
      },
      "execution_count": null,
      "outputs": [
        {
          "output_type": "display_data",
          "data": {
            "text/plain": [
              "<Figure size 432x288 with 1 Axes>"
            ],
            "image/png": "[encoded data removed]"
          },
          "metadata": {
            "needs_background": "light"
          }
        }
      ]
    },
    {
      "cell_type": "code",
      "source": [
        "plt.figure(figsize=(10,10))\n",
        "plt.scatter(x.detach().numpy(),y_noise,label=\"Original Data\")\n",
        "plt.scatter(x.detach().numpy(),output.detach().numpy(),label=\"Model Output\")\n",
        "plt.legend()\n",
        "plt.show()"
      ],
      "metadata": {
        "colab": {
          "base_uri": "https://localhost:8080/",
          "height": 592
        },
        "id": "KPuHui77WqAJ",
        "outputId": "61572cf0-2e7e-40b6-bbda-cfa1bd62b089"
      },
      "execution_count": null,
      "outputs": [
        {
          "output_type": "display_data",
          "data": {
            "text/plain": [
              "<Figure size 720x720 with 1 Axes>"
            ],
            "image/png": "[encoded data removed]"
          },
          "metadata": {
            "needs_background": "light"
          }
        }
      ]
    },
    {
      "cell_type": "markdown",
      "source": [
        "**인공신경망 이론-2**\n",
        "\n",
        "E = -Σylogy~ = Entrophy\n",
        "\n",
        "\n",
        "X -> H -> Y\n",
        "\n",
        "INPUT DATA ==>[SIGMOID()]=>HIDDEN LAYER=>[SOFTMAX()]=>OUTPUT\n",
        "\n",
        "Hx = [SIGMOID(X),\n",
        "SIGMOID(Y)]\n",
        "\n",
        "E의 최소를 생각하는 가중치 변경 ==> dE/dw(가중치에 대한 E의 편미분)\n",
        "\n",
        "E = -Σylogy~, y~ = Softmax(y) = e^z/Σ(e^z)k\n",
        "\n",
        "z = Σwh\n",
        "\n",
        "i.e. dE/dw = (dE)(dy!)(dz)/(dy!)(dz)(dw) = (-y/y!)*h\n",
        "\n",
        "= -y(1-y!)h = dE/dw\n",
        "\n",
        "위와 같은 방식으로 입력값에 따른 가중치를 새로고침 한다고 생각하자.\n",
        "\n",
        "\n",
        "\n",
        "\n",
        "****인공신경망이 갖는 장점****\n",
        "\n",
        "벡터와 행렬로 구성된 복잡한 모델링이 가능하다. 즉 비선형 모델링의 가능성은 신경망 구조의 가장 큰 무기인듯 ==> 활성함수의 도입\n",
        "\n",
        "\n"
      ],
      "metadata": {
        "id": "0UtUDus4WrdY"
      }
    },
    {
      "cell_type": "code",
      "source": [
        "loss_array[-1]"
      ],
      "metadata": {
        "colab": {
          "base_uri": "https://localhost:8080/"
        },
        "id": "gXEMcHYzsgxV",
        "outputId": "c60e6eec-c3af-4467-adaf-20ba43f0cbab"
      },
      "execution_count": null,
      "outputs": [
        {
          "output_type": "execute_result",
          "data": {
            "text/plain": [
              "array(0.9606098, dtype=float32)"
            ]
          },
          "metadata": {},
          "execution_count": 113
        }
      ]
    },
    {
      "cell_type": "markdown",
      "source": [
        "adam use:8.018224\n",
        "\n",
        "\n",
        "adam use, lr0.001:0.7880434\n",
        "\n",
        "adam, lr0.001, 6->10:0.7792886\n",
        "\n",
        "epoch 10000->2000\n"
      ],
      "metadata": {
        "id": "OqCI1wS2xsmJ"
      }
    },
    {
      "cell_type": "code",
      "source": [],
      "metadata": {
        "id": "6T1l7jtMyw0a"
      },
      "execution_count": null,
      "outputs": []
    }
  ]
}