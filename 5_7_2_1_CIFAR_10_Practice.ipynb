{
  "nbformat": 4,
  "nbformat_minor": 0,
  "metadata": {
    "colab": {
      "provenance": [],
      "authorship_tag": "ABX9TyNk90UNTJdz7L+EIU8JGO8/",
      "include_colab_link": true
    },
    "kernelspec": {
      "name": "python3",
      "display_name": "Python 3"
    },
    "language_info": {
      "name": "python"
    },
    "accelerator": "GPU",
    "gpuClass": "standard"
  },
  "cells": [
    {
      "cell_type": "markdown",
      "metadata": {
        "id": "view-in-github",
        "colab_type": "text"
      },
      "source": [
        "<a href=\"https://colab.research.google.com/github/imhyunho99/2023-1--Deaplearning_Framework/blob/main/5_7_2_1_CIFAR_10_Practice.ipynb\" target=\"_parent\"><img src=\"https://colab.research.google.com/assets/colab-badge.svg\" alt=\"Open In Colab\"/></a>"
      ]
    },
    {
      "cell_type": "code",
      "execution_count": 1,
      "metadata": {
        "colab": {
          "base_uri": "https://localhost:8080/"
        },
        "id": "TzA0Zh92oFFm",
        "outputId": "c918c9fd-6980-41b9-d10b-c1383686968f"
      },
      "outputs": [
        {
          "output_type": "stream",
          "name": "stdout",
          "text": [
            "Looking in indexes: https://pypi.org/simple, https://us-python.pkg.dev/colab-wheels/public/simple/\n",
            "Requirement already satisfied: torch in /usr/local/lib/python3.9/dist-packages (2.0.0+cu118)\n",
            "Requirement already satisfied: torchvision in /usr/local/lib/python3.9/dist-packages (0.15.1+cu118)\n",
            "Requirement already satisfied: filelock in /usr/local/lib/python3.9/dist-packages (from torch) (3.11.0)\n",
            "Requirement already satisfied: sympy in /usr/local/lib/python3.9/dist-packages (from torch) (1.11.1)\n",
            "Requirement already satisfied: jinja2 in /usr/local/lib/python3.9/dist-packages (from torch) (3.1.2)\n",
            "Requirement already satisfied: networkx in /usr/local/lib/python3.9/dist-packages (from torch) (3.1)\n",
            "Requirement already satisfied: typing-extensions in /usr/local/lib/python3.9/dist-packages (from torch) (4.5.0)\n",
            "Requirement already satisfied: triton==2.0.0 in /usr/local/lib/python3.9/dist-packages (from torch) (2.0.0)\n",
            "Requirement already satisfied: cmake in /usr/local/lib/python3.9/dist-packages (from triton==2.0.0->torch) (3.25.2)\n",
            "Requirement already satisfied: lit in /usr/local/lib/python3.9/dist-packages (from triton==2.0.0->torch) (16.0.1)\n",
            "Requirement already satisfied: requests in /usr/local/lib/python3.9/dist-packages (from torchvision) (2.27.1)\n",
            "Requirement already satisfied: numpy in /usr/local/lib/python3.9/dist-packages (from torchvision) (1.22.4)\n",
            "Requirement already satisfied: pillow!=8.3.*,>=5.3.0 in /usr/local/lib/python3.9/dist-packages (from torchvision) (8.4.0)\n",
            "Requirement already satisfied: MarkupSafe>=2.0 in /usr/local/lib/python3.9/dist-packages (from jinja2->torch) (2.1.2)\n",
            "Requirement already satisfied: charset-normalizer~=2.0.0 in /usr/local/lib/python3.9/dist-packages (from requests->torchvision) (2.0.12)\n",
            "Requirement already satisfied: urllib3<1.27,>=1.21.1 in /usr/local/lib/python3.9/dist-packages (from requests->torchvision) (1.26.15)\n",
            "Requirement already satisfied: idna<4,>=2.5 in /usr/local/lib/python3.9/dist-packages (from requests->torchvision) (3.4)\n",
            "Requirement already satisfied: certifi>=2017.4.17 in /usr/local/lib/python3.9/dist-packages (from requests->torchvision) (2022.12.7)\n",
            "Requirement already satisfied: mpmath>=0.19 in /usr/local/lib/python3.9/dist-packages (from sympy->torch) (1.3.0)\n"
          ]
        }
      ],
      "source": [
        "!pip install torch torchvision"
      ]
    },
    {
      "cell_type": "code",
      "source": [
        "import numpy as np\n",
        "import torch\n",
        "import torch.nn as nn\n",
        "import torch.optim as optim\n",
        "import torch.nn.init as init\n",
        "import torch.utils.data as data\n",
        "import torchvision.datasets as dset\n",
        "import torchvision.transforms as transforms\n",
        "#from torch.utils.data import DataLoader"
      ],
      "metadata": {
        "id": "0PxoeG15oXn_"
      },
      "execution_count": 2,
      "outputs": []
    },
    {
      "cell_type": "code",
      "source": [
        "#HyperParam\n",
        "\n",
        "batch_size= 64\n",
        "learning_rate = 0.0002\n",
        "num_epoch = 10"
      ],
      "metadata": {
        "id": "jchwCJGGofLd"
      },
      "execution_count": 11,
      "outputs": []
    },
    {
      "cell_type": "code",
      "source": [
        "import torch\n",
        "import torchvision\n",
        "import torchvision.transforms as transforms\n",
        "\n",
        "train_data = dset.CIFAR10(root=\"../\", train=True, transform= transforms.Compose([\n",
        "                                      transforms.Resize(256),                   \n",
        "                                      transforms.RandomResizedCrop(224),        \n",
        "                                      transforms.RandomHorizontalFlip(),        \n",
        "                                      transforms.ToTensor(),                    \n",
        "            ]), download = True)\n",
        "\n",
        "test_data = dset.CIFAR10(root=\"../\", train=False, transform= transforms.Compose([\n",
        "                                      transforms.Resize(256),                   \n",
        "                                      transforms.RandomResizedCrop(224),        \n",
        "                                      transforms.RandomHorizontalFlip(),        \n",
        "                                      transforms.ToTensor(),                    \n",
        "            ]), download = True)\n",
        "\n",
        "train_loader = data.DataLoader(train_data, batch_size=batch_size,\n",
        "                            shuffle=True, drop_last = True)\n",
        "\n",
        "test_loader = data.DataLoader(test_data, batch_size=batch_size,\n",
        "                            shuffle=False, drop_last = True)"
      ],
      "metadata": {
        "colab": {
          "base_uri": "https://localhost:8080/"
        },
        "id": "u1OCb2x0qUvS",
        "outputId": "3fdf1d0d-0ce7-4f8b-a4b0-a5910e31a8d2"
      },
      "execution_count": 12,
      "outputs": [
        {
          "output_type": "stream",
          "name": "stdout",
          "text": [
            "Files already downloaded and verified\n",
            "Files already downloaded and verified\n"
          ]
        }
      ]
    },
    {
      "cell_type": "code",
      "source": [
        "# inception module\n",
        "\n",
        "def conv_1(in_dim,out_dim):\n",
        "    model = nn.Sequential(\n",
        "        #input, output, kernel size, stride, padding\n",
        "        nn.Conv2d(in_dim,out_dim,1,1),\n",
        "        nn.ReLU(),\n",
        "    )\n",
        "    return model\n",
        "\n",
        "def conv_1_3(in_dim,mid_dim,out_dim):\n",
        "    model = nn.Sequential(\n",
        "        #입력채널 => 중간채널\n",
        "        nn.Conv2d(in_dim,mid_dim,1,1),\n",
        "        nn.ReLU(),\n",
        "        #중간채널 => 출력채널널\n",
        "        nn.Conv2d(mid_dim,out_dim,3,1,1),\n",
        "        nn.ReLU()\n",
        "    )\n",
        "    return model\n",
        "    \n",
        "def conv_1_5(in_dim,mid_dim,out_dim):\n",
        "    model = nn.Sequential(\n",
        "        nn.Conv2d(in_dim,mid_dim,1,1),\n",
        "        nn.ReLU(),\n",
        "        nn.Conv2d(mid_dim,out_dim,5,1,2),\n",
        "        nn.ReLU()\n",
        "    )\n",
        "    return model\n",
        "    \n",
        "\n",
        "def max_3_1(in_dim,out_dim):\n",
        "    model = nn.Sequential(\n",
        "        nn.MaxPool2d(3,1,1),\n",
        "        nn.Conv2d(in_dim,out_dim,1,1),\n",
        "        nn.ReLU(),\n",
        "    )\n",
        "    return model"
      ],
      "metadata": {
        "id": "rOUpB2J3ooGP"
      },
      "execution_count": 13,
      "outputs": []
    },
    {
      "cell_type": "code",
      "source": [
        "class inception_module(nn.Module):\n",
        "    def __init__(self,in_dim,out_dim_1,mid_dim_3,out_dim_3,mid_dim_5,out_dim_5,pool):\n",
        "        super(inception_module,self).__init__()\n",
        "        self.conv_1 = conv_1(in_dim,out_dim_1)\n",
        "        self.conv_1_3 = conv_1_3(in_dim,mid_dim_3,out_dim_3)\n",
        "        self.conv_1_5 = conv_1_5(in_dim,mid_dim_5,out_dim_5)\n",
        "        self.max_3_1 = max_3_1(in_dim,pool)\n",
        "\n",
        "    def forward(self,x):\n",
        "        out_1 = self.conv_1(x)\n",
        "        out_2 = self.conv_1_3(x)\n",
        "        out_3 = self.conv_1_5(x)\n",
        "        out_4 = self.max_3_1(x)\n",
        "        output = torch.cat([out_1,out_2,out_3,out_4],1)\n",
        "        return output"
      ],
      "metadata": {
        "id": "FdS2E1pDo5Uf"
      },
      "execution_count": 14,
      "outputs": []
    },
    {
      "cell_type": "code",
      "source": [
        "# 표와 비교하면서 볼 수 있도록 구현했습니다. \n",
        "\n",
        "class GoogLeNet(nn.Module):\n",
        "    def __init__(self, base_dim, num_classes=10):\n",
        "        super(GoogLeNet, self).__init__()\n",
        "        self.num_classes=num_classes\n",
        "        self.layer_1 = nn.Sequential(\n",
        "            nn.Conv2d(3,base_dim,7,2,3),\n",
        "            nn.MaxPool2d(3,2,1),\n",
        "            nn.Conv2d(base_dim,base_dim*3,3,1,1),\n",
        "            nn.MaxPool2d(3,2,1),\n",
        "        )\n",
        "        self.layer_2 = nn.Sequential(\n",
        "            inception_module(base_dim*3,64,96,128,16,32,32),\n",
        "            inception_module(base_dim*4,128,128,192,32,96,64),\n",
        "            nn.MaxPool2d(3,2,1),\n",
        "        )\n",
        "        self.layer_3 = nn.Sequential(\n",
        "            inception_module(480,192,96,208,16,48,64),\n",
        "            inception_module(512,160,112,224,24,64,64),\n",
        "            inception_module(512,128,128,256,24,64,64),\n",
        "            inception_module(512,112,144,288,32,64,64),\n",
        "            inception_module(528,256,160,320,32,128,128),\n",
        "            nn.MaxPool2d(3,2,1),\n",
        "        )\n",
        "        self.layer_4 = nn.Sequential(\n",
        "            inception_module(832,256,160,320,32,128,128),\n",
        "            inception_module(832,384,192,384,48,128,128), \n",
        "            nn.AvgPool2d(7,1),#7 7 Feature map -->1 1\n",
        "        )\n",
        "        self.layer_5 = nn.Dropout2d(0.4)\n",
        "        self.fc_layer = nn.Linear(1024,self.num_classes)\n",
        "                \n",
        "        \n",
        "    def forward(self, x):\n",
        "        out = self.layer_1(x)\n",
        "        out = self.layer_2(out)\n",
        "        out = self.layer_3(out)\n",
        "        out = self.layer_4(out)\n",
        "        out = self.layer_5(out)#7,7 => Avergae pooling==>batchsize,1024,1,1\n",
        "        out = out.view(batch_size,-1)#batchsize,1024,1,1 ==> batchsize,1024\n",
        "        out = self.fc_layer(out) #1024.numClass\n",
        "        return out"
      ],
      "metadata": {
        "id": "1Y-oooPKo847"
      },
      "execution_count": 15,
      "outputs": []
    },
    {
      "cell_type": "code",
      "source": [
        "device = torch.device(\"cuda:0\" if torch.cuda.is_available() else \"cpu\")\n",
        "print(device)\n",
        "\n",
        "model = GoogLeNet(base_dim=4)\n",
        "for i in model.named_children():\n",
        "    print(i)\n",
        "\n",
        "model = GoogLeNet(base_dim=64).to(device)\n",
        "loss_func = nn.CrossEntropyLoss()\n",
        "optimizer = optim.Adam(model.parameters(),lr=learning_rate)"
      ],
      "metadata": {
        "colab": {
          "base_uri": "https://localhost:8080/"
        },
        "id": "ljgA0aBqo_hv",
        "outputId": "36c405b1-5ba5-4c5d-b11d-2380bf22df05"
      },
      "execution_count": 16,
      "outputs": [
        {
          "output_type": "stream",
          "name": "stdout",
          "text": [
            "cuda:0\n",
            "('layer_1', Sequential(\n",
            "  (0): Conv2d(3, 4, kernel_size=(7, 7), stride=(2, 2), padding=(3, 3))\n",
            "  (1): MaxPool2d(kernel_size=3, stride=2, padding=1, dilation=1, ceil_mode=False)\n",
            "  (2): Conv2d(4, 12, kernel_size=(3, 3), stride=(1, 1), padding=(1, 1))\n",
            "  (3): MaxPool2d(kernel_size=3, stride=2, padding=1, dilation=1, ceil_mode=False)\n",
            "))\n",
            "('layer_2', Sequential(\n",
            "  (0): inception_module(\n",
            "    (conv_1): Sequential(\n",
            "      (0): Conv2d(12, 64, kernel_size=(1, 1), stride=(1, 1))\n",
            "      (1): ReLU()\n",
            "    )\n",
            "    (conv_1_3): Sequential(\n",
            "      (0): Conv2d(12, 96, kernel_size=(1, 1), stride=(1, 1))\n",
            "      (1): ReLU()\n",
            "      (2): Conv2d(96, 128, kernel_size=(3, 3), stride=(1, 1), padding=(1, 1))\n",
            "      (3): ReLU()\n",
            "    )\n",
            "    (conv_1_5): Sequential(\n",
            "      (0): Conv2d(12, 16, kernel_size=(1, 1), stride=(1, 1))\n",
            "      (1): ReLU()\n",
            "      (2): Conv2d(16, 32, kernel_size=(5, 5), stride=(1, 1), padding=(2, 2))\n",
            "      (3): ReLU()\n",
            "    )\n",
            "    (max_3_1): Sequential(\n",
            "      (0): MaxPool2d(kernel_size=3, stride=1, padding=1, dilation=1, ceil_mode=False)\n",
            "      (1): Conv2d(12, 32, kernel_size=(1, 1), stride=(1, 1))\n",
            "      (2): ReLU()\n",
            "    )\n",
            "  )\n",
            "  (1): inception_module(\n",
            "    (conv_1): Sequential(\n",
            "      (0): Conv2d(16, 128, kernel_size=(1, 1), stride=(1, 1))\n",
            "      (1): ReLU()\n",
            "    )\n",
            "    (conv_1_3): Sequential(\n",
            "      (0): Conv2d(16, 128, kernel_size=(1, 1), stride=(1, 1))\n",
            "      (1): ReLU()\n",
            "      (2): Conv2d(128, 192, kernel_size=(3, 3), stride=(1, 1), padding=(1, 1))\n",
            "      (3): ReLU()\n",
            "    )\n",
            "    (conv_1_5): Sequential(\n",
            "      (0): Conv2d(16, 32, kernel_size=(1, 1), stride=(1, 1))\n",
            "      (1): ReLU()\n",
            "      (2): Conv2d(32, 96, kernel_size=(5, 5), stride=(1, 1), padding=(2, 2))\n",
            "      (3): ReLU()\n",
            "    )\n",
            "    (max_3_1): Sequential(\n",
            "      (0): MaxPool2d(kernel_size=3, stride=1, padding=1, dilation=1, ceil_mode=False)\n",
            "      (1): Conv2d(16, 64, kernel_size=(1, 1), stride=(1, 1))\n",
            "      (2): ReLU()\n",
            "    )\n",
            "  )\n",
            "  (2): MaxPool2d(kernel_size=3, stride=2, padding=1, dilation=1, ceil_mode=False)\n",
            "))\n",
            "('layer_3', Sequential(\n",
            "  (0): inception_module(\n",
            "    (conv_1): Sequential(\n",
            "      (0): Conv2d(480, 192, kernel_size=(1, 1), stride=(1, 1))\n",
            "      (1): ReLU()\n",
            "    )\n",
            "    (conv_1_3): Sequential(\n",
            "      (0): Conv2d(480, 96, kernel_size=(1, 1), stride=(1, 1))\n",
            "      (1): ReLU()\n",
            "      (2): Conv2d(96, 208, kernel_size=(3, 3), stride=(1, 1), padding=(1, 1))\n",
            "      (3): ReLU()\n",
            "    )\n",
            "    (conv_1_5): Sequential(\n",
            "      (0): Conv2d(480, 16, kernel_size=(1, 1), stride=(1, 1))\n",
            "      (1): ReLU()\n",
            "      (2): Conv2d(16, 48, kernel_size=(5, 5), stride=(1, 1), padding=(2, 2))\n",
            "      (3): ReLU()\n",
            "    )\n",
            "    (max_3_1): Sequential(\n",
            "      (0): MaxPool2d(kernel_size=3, stride=1, padding=1, dilation=1, ceil_mode=False)\n",
            "      (1): Conv2d(480, 64, kernel_size=(1, 1), stride=(1, 1))\n",
            "      (2): ReLU()\n",
            "    )\n",
            "  )\n",
            "  (1): inception_module(\n",
            "    (conv_1): Sequential(\n",
            "      (0): Conv2d(512, 160, kernel_size=(1, 1), stride=(1, 1))\n",
            "      (1): ReLU()\n",
            "    )\n",
            "    (conv_1_3): Sequential(\n",
            "      (0): Conv2d(512, 112, kernel_size=(1, 1), stride=(1, 1))\n",
            "      (1): ReLU()\n",
            "      (2): Conv2d(112, 224, kernel_size=(3, 3), stride=(1, 1), padding=(1, 1))\n",
            "      (3): ReLU()\n",
            "    )\n",
            "    (conv_1_5): Sequential(\n",
            "      (0): Conv2d(512, 24, kernel_size=(1, 1), stride=(1, 1))\n",
            "      (1): ReLU()\n",
            "      (2): Conv2d(24, 64, kernel_size=(5, 5), stride=(1, 1), padding=(2, 2))\n",
            "      (3): ReLU()\n",
            "    )\n",
            "    (max_3_1): Sequential(\n",
            "      (0): MaxPool2d(kernel_size=3, stride=1, padding=1, dilation=1, ceil_mode=False)\n",
            "      (1): Conv2d(512, 64, kernel_size=(1, 1), stride=(1, 1))\n",
            "      (2): ReLU()\n",
            "    )\n",
            "  )\n",
            "  (2): inception_module(\n",
            "    (conv_1): Sequential(\n",
            "      (0): Conv2d(512, 128, kernel_size=(1, 1), stride=(1, 1))\n",
            "      (1): ReLU()\n",
            "    )\n",
            "    (conv_1_3): Sequential(\n",
            "      (0): Conv2d(512, 128, kernel_size=(1, 1), stride=(1, 1))\n",
            "      (1): ReLU()\n",
            "      (2): Conv2d(128, 256, kernel_size=(3, 3), stride=(1, 1), padding=(1, 1))\n",
            "      (3): ReLU()\n",
            "    )\n",
            "    (conv_1_5): Sequential(\n",
            "      (0): Conv2d(512, 24, kernel_size=(1, 1), stride=(1, 1))\n",
            "      (1): ReLU()\n",
            "      (2): Conv2d(24, 64, kernel_size=(5, 5), stride=(1, 1), padding=(2, 2))\n",
            "      (3): ReLU()\n",
            "    )\n",
            "    (max_3_1): Sequential(\n",
            "      (0): MaxPool2d(kernel_size=3, stride=1, padding=1, dilation=1, ceil_mode=False)\n",
            "      (1): Conv2d(512, 64, kernel_size=(1, 1), stride=(1, 1))\n",
            "      (2): ReLU()\n",
            "    )\n",
            "  )\n",
            "  (3): inception_module(\n",
            "    (conv_1): Sequential(\n",
            "      (0): Conv2d(512, 112, kernel_size=(1, 1), stride=(1, 1))\n",
            "      (1): ReLU()\n",
            "    )\n",
            "    (conv_1_3): Sequential(\n",
            "      (0): Conv2d(512, 144, kernel_size=(1, 1), stride=(1, 1))\n",
            "      (1): ReLU()\n",
            "      (2): Conv2d(144, 288, kernel_size=(3, 3), stride=(1, 1), padding=(1, 1))\n",
            "      (3): ReLU()\n",
            "    )\n",
            "    (conv_1_5): Sequential(\n",
            "      (0): Conv2d(512, 32, kernel_size=(1, 1), stride=(1, 1))\n",
            "      (1): ReLU()\n",
            "      (2): Conv2d(32, 64, kernel_size=(5, 5), stride=(1, 1), padding=(2, 2))\n",
            "      (3): ReLU()\n",
            "    )\n",
            "    (max_3_1): Sequential(\n",
            "      (0): MaxPool2d(kernel_size=3, stride=1, padding=1, dilation=1, ceil_mode=False)\n",
            "      (1): Conv2d(512, 64, kernel_size=(1, 1), stride=(1, 1))\n",
            "      (2): ReLU()\n",
            "    )\n",
            "  )\n",
            "  (4): inception_module(\n",
            "    (conv_1): Sequential(\n",
            "      (0): Conv2d(528, 256, kernel_size=(1, 1), stride=(1, 1))\n",
            "      (1): ReLU()\n",
            "    )\n",
            "    (conv_1_3): Sequential(\n",
            "      (0): Conv2d(528, 160, kernel_size=(1, 1), stride=(1, 1))\n",
            "      (1): ReLU()\n",
            "      (2): Conv2d(160, 320, kernel_size=(3, 3), stride=(1, 1), padding=(1, 1))\n",
            "      (3): ReLU()\n",
            "    )\n",
            "    (conv_1_5): Sequential(\n",
            "      (0): Conv2d(528, 32, kernel_size=(1, 1), stride=(1, 1))\n",
            "      (1): ReLU()\n",
            "      (2): Conv2d(32, 128, kernel_size=(5, 5), stride=(1, 1), padding=(2, 2))\n",
            "      (3): ReLU()\n",
            "    )\n",
            "    (max_3_1): Sequential(\n",
            "      (0): MaxPool2d(kernel_size=3, stride=1, padding=1, dilation=1, ceil_mode=False)\n",
            "      (1): Conv2d(528, 128, kernel_size=(1, 1), stride=(1, 1))\n",
            "      (2): ReLU()\n",
            "    )\n",
            "  )\n",
            "  (5): MaxPool2d(kernel_size=3, stride=2, padding=1, dilation=1, ceil_mode=False)\n",
            "))\n",
            "('layer_4', Sequential(\n",
            "  (0): inception_module(\n",
            "    (conv_1): Sequential(\n",
            "      (0): Conv2d(832, 256, kernel_size=(1, 1), stride=(1, 1))\n",
            "      (1): ReLU()\n",
            "    )\n",
            "    (conv_1_3): Sequential(\n",
            "      (0): Conv2d(832, 160, kernel_size=(1, 1), stride=(1, 1))\n",
            "      (1): ReLU()\n",
            "      (2): Conv2d(160, 320, kernel_size=(3, 3), stride=(1, 1), padding=(1, 1))\n",
            "      (3): ReLU()\n",
            "    )\n",
            "    (conv_1_5): Sequential(\n",
            "      (0): Conv2d(832, 32, kernel_size=(1, 1), stride=(1, 1))\n",
            "      (1): ReLU()\n",
            "      (2): Conv2d(32, 128, kernel_size=(5, 5), stride=(1, 1), padding=(2, 2))\n",
            "      (3): ReLU()\n",
            "    )\n",
            "    (max_3_1): Sequential(\n",
            "      (0): MaxPool2d(kernel_size=3, stride=1, padding=1, dilation=1, ceil_mode=False)\n",
            "      (1): Conv2d(832, 128, kernel_size=(1, 1), stride=(1, 1))\n",
            "      (2): ReLU()\n",
            "    )\n",
            "  )\n",
            "  (1): inception_module(\n",
            "    (conv_1): Sequential(\n",
            "      (0): Conv2d(832, 384, kernel_size=(1, 1), stride=(1, 1))\n",
            "      (1): ReLU()\n",
            "    )\n",
            "    (conv_1_3): Sequential(\n",
            "      (0): Conv2d(832, 192, kernel_size=(1, 1), stride=(1, 1))\n",
            "      (1): ReLU()\n",
            "      (2): Conv2d(192, 384, kernel_size=(3, 3), stride=(1, 1), padding=(1, 1))\n",
            "      (3): ReLU()\n",
            "    )\n",
            "    (conv_1_5): Sequential(\n",
            "      (0): Conv2d(832, 48, kernel_size=(1, 1), stride=(1, 1))\n",
            "      (1): ReLU()\n",
            "      (2): Conv2d(48, 128, kernel_size=(5, 5), stride=(1, 1), padding=(2, 2))\n",
            "      (3): ReLU()\n",
            "    )\n",
            "    (max_3_1): Sequential(\n",
            "      (0): MaxPool2d(kernel_size=3, stride=1, padding=1, dilation=1, ceil_mode=False)\n",
            "      (1): Conv2d(832, 128, kernel_size=(1, 1), stride=(1, 1))\n",
            "      (2): ReLU()\n",
            "    )\n",
            "  )\n",
            "  (2): AvgPool2d(kernel_size=7, stride=1, padding=0)\n",
            "))\n",
            "('layer_5', Dropout2d(p=0.4, inplace=False))\n",
            "('fc_layer', Linear(in_features=1024, out_features=10, bias=True))\n"
          ]
        }
      ]
    },
    {
      "cell_type": "code",
      "source": [
        "for i in range(num_epoch):\n",
        "    for j,[image,label] in enumerate(train_loader):\n",
        "        x = image.to(device)\n",
        "        y_= label.to(device)\n",
        "        \n",
        "        optimizer.zero_grad()\n",
        "        output = model.forward(x)\n",
        "        loss = loss_func(output,y_)\n",
        "        loss.backward()\n",
        "        optimizer.step()\n",
        "\n",
        "    if i % 10 ==0:\n",
        "        print(loss)"
      ],
      "metadata": {
        "colab": {
          "base_uri": "https://localhost:8080/"
        },
        "id": "Jk3HkFXKpA-L",
        "outputId": "9f41b4b7-83e6-4774-9cdd-05fe937e4d35"
      },
      "execution_count": 17,
      "outputs": [
        {
          "output_type": "stream",
          "name": "stdout",
          "text": [
            "tensor(1.8694, device='cuda:0', grad_fn=<NllLossBackward0>)\n"
          ]
        }
      ]
    },
    {
      "cell_type": "code",
      "source": [
        "# 맞은 개수, 전체 개수를 저장할 변수를 지정합니다.\n",
        "correct = 0\n",
        "total = 0\n",
        "for image,label in test_loader:\n",
        "  x = image.to(device)\n",
        "  y_= label.to(device)\n",
        "  output = model.forward(x)\n",
        "  _,output_index = torch.max(output,1)\n",
        "  total += label.size(0)\n",
        "  correct += (output_index == y_).sum().float()\n",
        "\n",
        "print(\"Accuracy of Test Data: {}%\".format(100*correct/total))"
      ],
      "metadata": {
        "colab": {
          "base_uri": "https://localhost:8080/"
        },
        "id": "MGCFYLeZvZ6Z",
        "outputId": "ab5a43d6-5700-4d8c-9a81-6e577c5d9a45"
      },
      "execution_count": 18,
      "outputs": [
        {
          "output_type": "stream",
          "name": "stdout",
          "text": [
            "Accuracy of Test Data: 58.76402282714844%\n"
          ]
        }
      ]
    },
    {
      "cell_type": "code",
      "source": [],
      "metadata": {
        "id": "tFP_DfHJw7SF"
      },
      "execution_count": null,
      "outputs": []
    }
  ]
}