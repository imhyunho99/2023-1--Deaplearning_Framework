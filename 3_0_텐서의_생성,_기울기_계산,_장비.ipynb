{
  "nbformat": 4,
  "nbformat_minor": 0,
  "metadata": {
    "colab": {
      "provenance": [],
      "authorship_tag": "ABX9TyNALZx8zbOFBjSnFiptkFJl",
      "include_colab_link": true
    },
    "kernelspec": {
      "name": "python3",
      "display_name": "Python 3"
    },
    "language_info": {
      "name": "python"
    },
    "accelerator": "GPU",
    "gpuClass": "standard"
  },
  "cells": [
    {
      "cell_type": "markdown",
      "metadata": {
        "id": "view-in-github",
        "colab_type": "text"
      },
      "source": [
        "<a href=\"https://colab.research.google.com/github/imhyunho99/2023-1--Deaplearning_Framework/blob/main/3_0_%ED%85%90%EC%84%9C%EC%9D%98_%EC%83%9D%EC%84%B1%2C_%EA%B8%B0%EC%9A%B8%EA%B8%B0_%EA%B3%84%EC%82%B0%2C_%EC%9E%A5%EB%B9%84.ipynb\" target=\"_parent\"><img src=\"https://colab.research.google.com/assets/colab-badge.svg\" alt=\"Open In Colab\"/></a>"
      ]
    },
    {
      "cell_type": "code",
      "execution_count": null,
      "metadata": {
        "colab": {
          "base_uri": "https://localhost:8080/"
        },
        "id": "HaRQBxMsdJB_",
        "outputId": "51e89027-cec2-443a-db97-84fe11d0a2f5"
      },
      "outputs": [
        {
          "output_type": "stream",
          "name": "stdout",
          "text": [
            "Looking in indexes: https://pypi.org/simple, https://us-python.pkg.dev/colab-wheels/public/simple/\n",
            "Requirement already satisfied: torch in /usr/local/lib/python3.9/dist-packages (1.13.1+cu116)\n",
            "Requirement already satisfied: torchvision in /usr/local/lib/python3.9/dist-packages (0.14.1+cu116)\n",
            "Requirement already satisfied: typing-extensions in /usr/local/lib/python3.9/dist-packages (from torch) (4.5.0)\n",
            "Requirement already satisfied: requests in /usr/local/lib/python3.9/dist-packages (from torchvision) (2.25.1)\n",
            "Requirement already satisfied: numpy in /usr/local/lib/python3.9/dist-packages (from torchvision) (1.22.4)\n",
            "Requirement already satisfied: pillow!=8.3.*,>=5.3.0 in /usr/local/lib/python3.9/dist-packages (from torchvision) (8.4.0)\n",
            "Requirement already satisfied: idna<3,>=2.5 in /usr/local/lib/python3.9/dist-packages (from requests->torchvision) (2.10)\n",
            "Requirement already satisfied: urllib3<1.27,>=1.21.1 in /usr/local/lib/python3.9/dist-packages (from requests->torchvision) (1.26.14)\n",
            "Requirement already satisfied: certifi>=2017.4.17 in /usr/local/lib/python3.9/dist-packages (from requests->torchvision) (2022.12.7)\n",
            "Requirement already satisfied: chardet<5,>=3.0.2 in /usr/local/lib/python3.9/dist-packages (from requests->torchvision) (4.0.0)\n"
          ]
        }
      ],
      "source": [
        "# 파이토치 토치비젼 설치 \n",
        "!pip3 install torch torchvision"
      ]
    },
    {
      "cell_type": "markdown",
      "source": [
        "# 텐서, 기울기, 장치 (Tensor, Gradient, and Devices)\n",
        "\n",
        "- 텐서의 생성 (Tensor Creation)\n",
        "- 기울기 계산 (Gradient Calculation)\n",
        "- 인퍼런스 모드 (Inference Mode)\n",
        "- 텐서 위치 바꾸기 (Device Change)"
      ],
      "metadata": {
        "id": "xwojXvPudWo8"
      }
    },
    {
      "cell_type": "code",
      "source": [
        "# 먼저 넘파이와 파이토치를 불러옵니다.\n",
        "import numpy as np\n",
        "import torch"
      ],
      "metadata": {
        "id": "suE0iyKgdYrB"
      },
      "execution_count": null,
      "outputs": []
    },
    {
      "cell_type": "markdown",
      "source": [
        "## 기울기 계산 기능을 끄고 기울기 계산을 시도하는 경우 (Tensor Creation without gradient calculation requirement)"
      ],
      "metadata": {
        "id": "-WXWroC6dZ7W"
      }
    },
    {
      "cell_type": "code",
      "source": [
        "# https://pytorch.org/docs/stable/tensors.html?highlight=requires_grad#torch.Tensor.requires_grad\n",
        "# 텐서의 기울기 게산 여부는 requires_grad 로 확인할 수 있습니다.\n",
        "\n",
        "# x 텐서는 1,2,3으로 초기화, y 텐서는 [2,3,4]로 초기화\n",
        "#x = torch.tensor([1.,2.,3.])\n",
        "#y = torch.tensor([2.,3.,4.])\n",
        "\n",
        "x = torch.tensor([1.,2.,3.], requires_grad=True)\n",
        "y = torch.tensor([2.,3.,4.], requires_grad=True)\n",
        "\n",
        "# x 와 x의 기울기 계산 여부\n",
        "print(x, x.requires_grad)\n",
        "\n",
        "# 기울기 계산이 꺼져있으므로 backward를 하면 오류가 납니다.\n",
        "z = x + y\n",
        "z.sum().backward()"
      ],
      "metadata": {
        "colab": {
          "base_uri": "https://localhost:8080/"
        },
        "id": "vQo459VOdc3s",
        "outputId": "2a886798-7439-4645-bfb8-73b7a4199501"
      },
      "execution_count": null,
      "outputs": [
        {
          "output_type": "stream",
          "name": "stdout",
          "text": [
            "tensor([1., 2., 3.], requires_grad=True) True\n"
          ]
        }
      ]
    },
    {
      "cell_type": "markdown",
      "source": [
        "## 인퍼런스 모드 (Inference Mode)\n",
        "\n",
        "- 학습이 이루어진 상황에서 모델의 결과값만 보고 싶을때 사용합니다.\n",
        "- torch.no_grad()\n",
        "\n"
      ],
      "metadata": {
        "id": "oWp4zxLodf4f"
      }
    },
    {
      "cell_type": "code",
      "source": [
        "# https://pytorch.org/docs/stable/autograd.html?highlight=no_grad#torch.autograd.no_grad\n",
        "# 기울기 계산이 켜져 있더라도 torch.no_grad()로 이를 끌 수 있습니다.\n",
        "# 파이썬 문법인 with 를 사용해 해당 부분만 기울기 계산을 끔으로써 모델을 인퍼런스 모드로 사용할 수 있습니다.\n",
        "# 추가적으로 model.eval()을 해주면 더 확실한데 이는 나중에 배울 학습모드와 인퍼런스 모드에서 다르게 작동하는 연산들에 대해 적용됩니다.(ex.배치 정규화, 드롭아웃)\n",
        "\n",
        "print(x.requires_grad,y.requires_grad)\n",
        "\n",
        "with torch.no_grad():\n",
        "    z = x + y\n",
        "    print(z.requires_grad)"
      ],
      "metadata": {
        "colab": {
          "base_uri": "https://localhost:8080/"
        },
        "id": "XVaNHeykd2e6",
        "outputId": "faad626f-184a-443d-c974-fe0a12fca0ac"
      },
      "execution_count": null,
      "outputs": [
        {
          "output_type": "stream",
          "name": "stdout",
          "text": [
            "True True\n",
            "False\n"
          ]
        }
      ]
    },
    {
      "cell_type": "markdown",
      "source": [
        "## 텐서의 위치 할당 (Device Allocation of Tensor)\n",
        "\n",
        "- torch.cuda.is_available()\n",
        "- torch.device()\n",
        "- torch.Tensor.to()"
      ],
      "metadata": {
        "id": "QB4jNsccd38w"
      }
    },
    {
      "cell_type": "code",
      "source": [
        "# device 함수를 이용해 cpu 또는 몇번 gpu 에 올릴 것인지 지정할 수 있습니다.\n",
        "\n",
        "cpu = torch.device('cpu')\n",
        "gpu = torch.device('cuda')\n",
        "\n",
        "# 텐서를 생성할 때, 장치를 지정할 수도 있습니다.\n",
        "x = torch.tensor([1.,2.,3.],dtype=torch.float64, device=cpu, requires_grad=True)\n",
        "print(x.device)\n",
        "\n",
        "# to 함수를 이용해 cpu에 만들어진 텐서를 gpu에 올릴 수 있습니다.\n",
        "if torch.cuda.is_available():\n",
        "    x = x.to(gpu)\n",
        "    print(x.device)"
      ],
      "metadata": {
        "colab": {
          "base_uri": "https://localhost:8080/"
        },
        "id": "xWwfD7DRd7AQ",
        "outputId": "d6246475-9d61-4d1b-e186-66920e239aa2"
      },
      "execution_count": null,
      "outputs": [
        {
          "output_type": "stream",
          "name": "stdout",
          "text": [
            "cpu\n",
            "cuda:0\n"
          ]
        }
      ]
    },
    {
      "cell_type": "code",
      "source": [],
      "metadata": {
        "id": "kMLwEujZd8sr"
      },
      "execution_count": null,
      "outputs": []
    }
  ]
}