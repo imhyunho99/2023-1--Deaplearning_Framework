{
  "nbformat": 4,
  "nbformat_minor": 0,
  "metadata": {
    "colab": {
      "provenance": [],
      "include_colab_link": true
    },
    "kernelspec": {
      "name": "python3",
      "display_name": "Python 3"
    },
    "accelerator": "GPU"
  },
  "cells": [
    {
      "cell_type": "markdown",
      "metadata": {
        "id": "view-in-github",
        "colab_type": "text"
      },
      "source": [
        "<a href=\"https://colab.research.google.com/github/imhyunho99/2023-1--Deaplearning_Framework/blob/main/5_7_2_GoogLeNet.ipynb\" target=\"_parent\"><img src=\"https://colab.research.google.com/assets/colab-badge.svg\" alt=\"Open In Colab\"/></a>"
      ]
    },
    {
      "cell_type": "markdown",
      "metadata": {
        "collapsed": true,
        "id": "R5TdJbHbenJk"
      },
      "source": [
        "# GoogleNet Implementation\n",
        "\n",
        "\n",
        "- VGG와 중복되는 부분은 주석을 생략했습니다. \n",
        "- 2014 ILSVRC 1nd place \n",
        "- Inception Module\n",
        "\n",
        "![대체 텍스트](https://cdn-images-1.medium.com/max/2560/1*ZFPOSAted10TPd3hBQU8iQ.png)"
      ]
    },
    {
      "cell_type": "code",
      "metadata": {
        "id": "tWY0JFsPe1Lb",
        "outputId": "3ae56fc2-c6c6-4c01-811a-8e0cc723965c",
        "colab": {
          "base_uri": "https://localhost:8080/"
        }
      },
      "source": [
        "# 런타임 유형 GPU 모드로 변경\n",
        "!pip install torch torchvision"
      ],
      "execution_count": null,
      "outputs": [
        {
          "output_type": "stream",
          "name": "stdout",
          "text": [
            "Looking in indexes: https://pypi.org/simple, https://us-python.pkg.dev/colab-wheels/public/simple/\n",
            "Requirement already satisfied: torch in /usr/local/lib/python3.9/dist-packages (2.0.0+cu118)\n",
            "Requirement already satisfied: torchvision in /usr/local/lib/python3.9/dist-packages (0.15.1+cu118)\n",
            "Requirement already satisfied: jinja2 in /usr/local/lib/python3.9/dist-packages (from torch) (3.1.2)\n",
            "Requirement already satisfied: typing-extensions in /usr/local/lib/python3.9/dist-packages (from torch) (4.5.0)\n",
            "Requirement already satisfied: filelock in /usr/local/lib/python3.9/dist-packages (from torch) (3.11.0)\n",
            "Requirement already satisfied: networkx in /usr/local/lib/python3.9/dist-packages (from torch) (3.1)\n",
            "Requirement already satisfied: triton==2.0.0 in /usr/local/lib/python3.9/dist-packages (from torch) (2.0.0)\n",
            "Requirement already satisfied: sympy in /usr/local/lib/python3.9/dist-packages (from torch) (1.11.1)\n",
            "Requirement already satisfied: lit in /usr/local/lib/python3.9/dist-packages (from triton==2.0.0->torch) (16.0.1)\n",
            "Requirement already satisfied: cmake in /usr/local/lib/python3.9/dist-packages (from triton==2.0.0->torch) (3.25.2)\n",
            "Requirement already satisfied: numpy in /usr/local/lib/python3.9/dist-packages (from torchvision) (1.22.4)\n",
            "Requirement already satisfied: pillow!=8.3.*,>=5.3.0 in /usr/local/lib/python3.9/dist-packages (from torchvision) (8.4.0)\n",
            "Requirement already satisfied: requests in /usr/local/lib/python3.9/dist-packages (from torchvision) (2.27.1)\n",
            "Requirement already satisfied: MarkupSafe>=2.0 in /usr/local/lib/python3.9/dist-packages (from jinja2->torch) (2.1.2)\n",
            "Requirement already satisfied: certifi>=2017.4.17 in /usr/local/lib/python3.9/dist-packages (from requests->torchvision) (2022.12.7)\n",
            "Requirement already satisfied: idna<4,>=2.5 in /usr/local/lib/python3.9/dist-packages (from requests->torchvision) (3.4)\n",
            "Requirement already satisfied: urllib3<1.27,>=1.21.1 in /usr/local/lib/python3.9/dist-packages (from requests->torchvision) (1.26.15)\n",
            "Requirement already satisfied: charset-normalizer~=2.0.0 in /usr/local/lib/python3.9/dist-packages (from requests->torchvision) (2.0.12)\n",
            "Requirement already satisfied: mpmath>=0.19 in /usr/local/lib/python3.9/dist-packages (from sympy->torch) (1.3.0)\n"
          ]
        }
      ]
    },
    {
      "cell_type": "code",
      "metadata": {
        "id": "WYHfQrT3e38Q",
        "outputId": "b0d62bf0-2840-4442-ce54-ee38f63cce72",
        "colab": {
          "base_uri": "https://localhost:8080/"
        }
      },
      "source": [
        "!rm -r images\n",
        "import os \n",
        "\n",
        "try:\n",
        "  os.mkdir(\"images\")\n",
        "  os.mkdir(\"images/dogs\")\n",
        "  os.mkdir(\"images/cats\")\n",
        "except:\n",
        "  pass\n",
        "\n",
        "!wget https://i.kinja-img.com/gawker-media/image/upload/s--WFkXeene--/c_scale,f_auto,fl_progressive,q_80,w_800/ol9ceoqxidudap8owlwn.jpg -P images/dogs\n",
        "!wget https://www.rspcansw.org.au/wp-content/uploads/2017/08/50_a-feature_dogs-and-puppies_mobile.jpg -P images/dogs\n",
        "  \n",
        "!wget https://www.catster.com/wp-content/uploads/2018/05/A-gray-cat-crying-looking-upset.jpg -P images/cats\n",
        "!wget https://www.scarymommy.com/wp-content/uploads/2018/01/c1.jpg?w=700 -P images/cats"
      ],
      "execution_count": null,
      "outputs": [
        {
          "output_type": "stream",
          "name": "stdout",
          "text": [
            "rm: cannot remove 'images': No such file or directory\n",
            "--2023-04-17 04:38:35--  https://i.kinja-img.com/gawker-media/image/upload/s--WFkXeene--/c_scale,f_auto,fl_progressive,q_80,w_800/ol9ceoqxidudap8owlwn.jpg\n",
            "Resolving i.kinja-img.com (i.kinja-img.com)... 151.101.194.166, 151.101.66.166, 151.101.130.166, ...\n",
            "Connecting to i.kinja-img.com (i.kinja-img.com)|151.101.194.166|:443... connected.\n",
            "HTTP request sent, awaiting response... 200 OK\n",
            "Length: 36509 (36K) [image/jpeg]\n",
            "Saving to: ‘images/dogs/ol9ceoqxidudap8owlwn.jpg’\n",
            "\n",
            "ol9ceoqxidudap8owlw 100%[===================>]  35.65K  --.-KB/s    in 0.001s  \n",
            "\n",
            "2023-04-17 04:38:35 (41.2 MB/s) - ‘images/dogs/ol9ceoqxidudap8owlwn.jpg’ saved [36509/36509]\n",
            "\n",
            "--2023-04-17 04:38:35--  https://www.rspcansw.org.au/wp-content/uploads/2017/08/50_a-feature_dogs-and-puppies_mobile.jpg\n",
            "Resolving www.rspcansw.org.au (www.rspcansw.org.au)... 101.0.86.38\n",
            "Connecting to www.rspcansw.org.au (www.rspcansw.org.au)|101.0.86.38|:443... connected.\n",
            "HTTP request sent, awaiting response... 200 OK\n",
            "Length: 130940 (128K) [image/jpeg]\n",
            "Saving to: ‘images/dogs/50_a-feature_dogs-and-puppies_mobile.jpg’\n",
            "\n",
            "50_a-feature_dogs-a 100%[===================>] 127.87K   158KB/s    in 0.8s    \n",
            "\n",
            "2023-04-17 04:38:37 (158 KB/s) - ‘images/dogs/50_a-feature_dogs-and-puppies_mobile.jpg’ saved [130940/130940]\n",
            "\n",
            "--2023-04-17 04:38:37--  https://www.catster.com/wp-content/uploads/2018/05/A-gray-cat-crying-looking-upset.jpg\n",
            "Resolving www.catster.com (www.catster.com)... 18.65.39.36, 18.65.39.80, 18.65.39.67, ...\n",
            "Connecting to www.catster.com (www.catster.com)|18.65.39.36|:443... connected.\n",
            "HTTP request sent, awaiting response... 200 OK\n",
            "Length: 165145 (161K) [image/jpeg]\n",
            "Saving to: ‘images/cats/A-gray-cat-crying-looking-upset.jpg’\n",
            "\n",
            "A-gray-cat-crying-l 100%[===================>] 161.27K   583KB/s    in 0.3s    \n",
            "\n",
            "2023-04-17 04:38:38 (583 KB/s) - ‘images/cats/A-gray-cat-crying-looking-upset.jpg’ saved [165145/165145]\n",
            "\n",
            "--2023-04-17 04:38:38--  https://www.scarymommy.com/wp-content/uploads/2018/01/c1.jpg?w=700\n",
            "Resolving www.scarymommy.com (www.scarymommy.com)... 52.222.139.103, 52.222.139.96, 52.222.139.61, ...\n",
            "Connecting to www.scarymommy.com (www.scarymommy.com)|52.222.139.103|:443... connected.\n",
            "HTTP request sent, awaiting response... 404 Not Found\n",
            "2023-04-17 04:38:38 ERROR 404: Not Found.\n",
            "\n"
          ]
        }
      ]
    },
    {
      "cell_type": "markdown",
      "metadata": {
        "collapsed": true,
        "id": "uAOTfwoKenJl"
      },
      "source": [
        "## 1. Settings\n",
        "### 1) Import required libraries"
      ]
    },
    {
      "cell_type": "code",
      "metadata": {
        "id": "YAvEAu6KenJm"
      },
      "source": [
        "import numpy as np\n",
        "import torch\n",
        "import torch.nn as nn\n",
        "import torch.optim as optim\n",
        "import torch.nn.init as init\n",
        "import torch.utils.data as data\n",
        "import torchvision.datasets as dset\n",
        "import torchvision.transforms as transforms\n",
        "#from torch.utils.data import DataLoader"
      ],
      "execution_count": null,
      "outputs": []
    },
    {
      "cell_type": "markdown",
      "metadata": {
        "id": "FBsdNWWXenJq"
      },
      "source": [
        "### 2) Hyperparameter"
      ]
    },
    {
      "cell_type": "code",
      "metadata": {
        "id": "o_cxanrUenJs"
      },
      "source": [
        "batch_size= 1\n",
        "learning_rate = 0.0002\n",
        "num_epoch = 100"
      ],
      "execution_count": null,
      "outputs": []
    },
    {
      "cell_type": "markdown",
      "metadata": {
        "id": "5UjyZEidenJu"
      },
      "source": [
        "## 2. Data Loader"
      ]
    },
    {
      "cell_type": "code",
      "metadata": {
        "id": "miminY74enJv"
      },
      "source": [
        "img_dir = \"./images\"\n",
        "img_data = dset.ImageFolder(img_dir, transforms.Compose([\n",
        "                                      transforms.Resize(256),                   \n",
        "                                      transforms.RandomResizedCrop(224),        \n",
        "                                      transforms.RandomHorizontalFlip(),        \n",
        "                                      transforms.ToTensor(),                    \n",
        "            ]))\n",
        "\n",
        "\n",
        "train_loader = data.DataLoader(img_data, batch_size=batch_size,\n",
        "                            shuffle=True, num_workers=2)"
      ],
      "execution_count": null,
      "outputs": []
    },
    {
      "cell_type": "markdown",
      "metadata": {
        "id": "c5ciRmnzenJy"
      },
      "source": [
        "## 3. Model \n",
        "### 1) Base module\n",
        "\n",
        "- 인셉션 모듈을 구성하는 4가지 연산을 함수로 정의해놓습니다.\n",
        "- 1x1 컨볼루션\n",
        "- 1x1 컨볼루션 -> 3x3 컨볼루션\n",
        "- 1x1 컨볼루션 -> 5x5 컨볼루션\n",
        "- 3x3 맥스풀링 ->1x1 컨볼루션"
      ]
    },
    {
      "cell_type": "code",
      "metadata": {
        "id": "eZv204pmenJz"
      },
      "source": [
        "# inception module\n",
        "\n",
        "def conv_1(in_dim,out_dim):\n",
        "    model = nn.Sequential(\n",
        "        #input, output, kernel size, stride, padding\n",
        "        nn.Conv2d(in_dim,out_dim,1,1),\n",
        "        nn.ReLU(),\n",
        "    )\n",
        "    return model\n",
        "\n",
        "def conv_1_3(in_dim,mid_dim,out_dim):\n",
        "    model = nn.Sequential(\n",
        "        #입력채널 => 중간채널\n",
        "        nn.Conv2d(in_dim,mid_dim,1,1),\n",
        "        nn.ReLU(),\n",
        "        #중간채널 => 출력채널널\n",
        "        nn.Conv2d(mid_dim,out_dim,3,1,1),\n",
        "        nn.ReLU()\n",
        "    )\n",
        "    return model\n",
        "    \n",
        "def conv_1_5(in_dim,mid_dim,out_dim):\n",
        "    model = nn.Sequential(\n",
        "        nn.Conv2d(in_dim,mid_dim,1,1),\n",
        "        nn.ReLU(),\n",
        "        nn.Conv2d(mid_dim,out_dim,5,1,2),\n",
        "        nn.ReLU()\n",
        "    )\n",
        "    return model\n",
        "    \n",
        "\n",
        "def max_3_1(in_dim,out_dim):\n",
        "    model = nn.Sequential(\n",
        "        nn.MaxPool2d(3,1,1),\n",
        "        nn.Conv2d(in_dim,out_dim,1,1),\n",
        "        nn.ReLU(),\n",
        "    )\n",
        "    return model"
      ],
      "execution_count": null,
      "outputs": []
    },
    {
      "cell_type": "markdown",
      "metadata": {
        "id": "IyQpdnGeenJ1"
      },
      "source": [
        "### 2) Inception Module\n",
        "- 앞서 정의한 연산으로 인셉션 모듈을 만듦니다."
      ]
    },
    {
      "cell_type": "code",
      "metadata": {
        "id": "9NjXLZMRenJ1"
      },
      "source": [
        "class inception_module(nn.Module):\n",
        "    def __init__(self,in_dim,out_dim_1,mid_dim_3,out_dim_3,mid_dim_5,out_dim_5,pool):\n",
        "        super(inception_module,self).__init__()\n",
        "        self.conv_1 = conv_1(in_dim,out_dim_1)\n",
        "        self.conv_1_3 = conv_1_3(in_dim,mid_dim_3,out_dim_3)\n",
        "        self.conv_1_5 = conv_1_5(in_dim,mid_dim_5,out_dim_5)\n",
        "        self.max_3_1 = max_3_1(in_dim,pool)\n",
        "\n",
        "    def forward(self,x):\n",
        "        out_1 = self.conv_1(x)\n",
        "        out_2 = self.conv_1_3(x)\n",
        "        out_3 = self.conv_1_5(x)\n",
        "        out_4 = self.max_3_1(x)\n",
        "        output = torch.cat([out_1,out_2,out_3,out_4],1)\n",
        "        return output"
      ],
      "execution_count": null,
      "outputs": []
    },
    {
      "cell_type": "markdown",
      "metadata": {
        "id": "kBBIZ8p2enJ4"
      },
      "source": [
        "### 3) GoogLeNet"
      ]
    },
    {
      "cell_type": "markdown",
      "metadata": {
        "id": "62d-tMLEgsNE"
      },
      "source": [
        "![대체 텍스트](https://cdn-images-1.medium.com/max/1600/1*CWJGqfLiVjHAIan82nPbjg.png)"
      ]
    },
    {
      "cell_type": "code",
      "metadata": {
        "id": "l4T_rmP3enJ5"
      },
      "source": [
        "# 표와 비교하면서 볼 수 있도록 구현했습니다. \n",
        "\n",
        "class GoogLeNet(nn.Module):\n",
        "    def __init__(self, base_dim, num_classes=2):\n",
        "        super(GoogLeNet, self).__init__()\n",
        "        self.num_classes=num_classes\n",
        "        self.layer_1 = nn.Sequential(\n",
        "            nn.Conv2d(3,base_dim,7,2,3),\n",
        "            nn.MaxPool2d(3,2,1),\n",
        "            nn.Conv2d(base_dim,base_dim*3,3,1,1),\n",
        "            nn.MaxPool2d(3,2,1),\n",
        "        )\n",
        "        self.layer_2 = nn.Sequential(\n",
        "            inception_module(base_dim*3,64,96,128,16,32,32),\n",
        "            inception_module(base_dim*4,128,128,192,32,96,64),\n",
        "            nn.MaxPool2d(3,2,1),\n",
        "        ) \n",
        "        self.layer_3 = nn.Sequential(\n",
        "            inception_module(480,192,96,208,16,48,64),\n",
        "            inception_module(512,160,112,224,24,64,64),\n",
        "            inception_module(512,128,128,256,24,64,64),\n",
        "            inception_module(512,112,144,288,32,64,64),\n",
        "            inception_module(528,256,160,320,32,128,128),\n",
        "            nn.MaxPool2d(3,2,1),\n",
        "        )\n",
        "        self.layer_4 = nn.Sequential(\n",
        "            inception_module(832,256,160,320,32,128,128),\n",
        "            inception_module(832,384,192,384,48,128,128), \n",
        "            nn.AvgPool2d(7,1),#7 7 Feature map -->1 1\n",
        "        )\n",
        "        self.layer_5 = nn.Dropout2d(0.4)\n",
        "        self.fc_layer = nn.Linear(1024,self.num_classes)\n",
        "                \n",
        "        \n",
        "    def forward(self, x):\n",
        "        out = self.layer_1(x)\n",
        "        out = self.layer_2(out)\n",
        "        out = self.layer_3(out)\n",
        "        out = self.layer_4(out)\n",
        "        out = self.layer_5(out)#7,7 => Avergae pooling==>batchsize,1024,1,1\n",
        "        out = out.view(batch_size,-1)#batchsize,1024,1,1 ==> batchsize,1024\n",
        "        out = self.fc_layer(out) #1024.numClass\n",
        "        return out"
      ],
      "execution_count": null,
      "outputs": []
    },
    {
      "cell_type": "markdown",
      "metadata": {
        "id": "u6vJaWWeenJ-"
      },
      "source": [
        "## 4. Optimizer & Loss"
      ]
    },
    {
      "cell_type": "code",
      "metadata": {
        "id": "4ZoEfJvMenJ-",
        "outputId": "26d548ff-6b8e-453c-9210-5cb055d08044",
        "colab": {
          "base_uri": "https://localhost:8080/"
        }
      },
      "source": [
        "device = torch.device(\"cuda:0\" if torch.cuda.is_available() else \"cpu\")\n",
        "print(device)\n",
        "\n",
        "model = GoogLeNet(base_dim=64)\n",
        "for i in model.named_children():\n",
        "    print(i)\n",
        "\n",
        "model = GoogLeNet(base_dim=64).to(device)\n",
        "loss_func = nn.CrossEntropyLoss()\n",
        "optimizer = optim.Adam(model.parameters(),lr=learning_rate)"
      ],
      "execution_count": null,
      "outputs": [
        {
          "output_type": "stream",
          "name": "stdout",
          "text": [
            "cuda:0\n",
            "('layer_1', Sequential(\n",
            "  (0): Conv2d(3, 64, kernel_size=(7, 7), stride=(2, 2), padding=(3, 3))\n",
            "  (1): MaxPool2d(kernel_size=3, stride=2, padding=1, dilation=1, ceil_mode=False)\n",
            "  (2): Conv2d(64, 192, kernel_size=(3, 3), stride=(1, 1), padding=(1, 1))\n",
            "  (3): MaxPool2d(kernel_size=3, stride=2, padding=1, dilation=1, ceil_mode=False)\n",
            "))\n",
            "('layer_2', Sequential(\n",
            "  (0): inception_module(\n",
            "    (conv_1): Sequential(\n",
            "      (0): Conv2d(192, 64, kernel_size=(1, 1), stride=(1, 1))\n",
            "      (1): ReLU()\n",
            "    )\n",
            "    (conv_1_3): Sequential(\n",
            "      (0): Conv2d(192, 96, kernel_size=(1, 1), stride=(1, 1))\n",
            "      (1): ReLU()\n",
            "      (2): Conv2d(96, 128, kernel_size=(3, 3), stride=(1, 1), padding=(1, 1))\n",
            "      (3): ReLU()\n",
            "    )\n",
            "    (conv_1_5): Sequential(\n",
            "      (0): Conv2d(192, 16, kernel_size=(1, 1), stride=(1, 1))\n",
            "      (1): ReLU()\n",
            "      (2): Conv2d(16, 32, kernel_size=(5, 5), stride=(1, 1), padding=(2, 2))\n",
            "      (3): ReLU()\n",
            "    )\n",
            "    (max_3_1): Sequential(\n",
            "      (0): MaxPool2d(kernel_size=3, stride=1, padding=1, dilation=1, ceil_mode=False)\n",
            "      (1): Conv2d(192, 32, kernel_size=(1, 1), stride=(1, 1))\n",
            "      (2): ReLU()\n",
            "    )\n",
            "  )\n",
            "  (1): inception_module(\n",
            "    (conv_1): Sequential(\n",
            "      (0): Conv2d(256, 128, kernel_size=(1, 1), stride=(1, 1))\n",
            "      (1): ReLU()\n",
            "    )\n",
            "    (conv_1_3): Sequential(\n",
            "      (0): Conv2d(256, 128, kernel_size=(1, 1), stride=(1, 1))\n",
            "      (1): ReLU()\n",
            "      (2): Conv2d(128, 192, kernel_size=(3, 3), stride=(1, 1), padding=(1, 1))\n",
            "      (3): ReLU()\n",
            "    )\n",
            "    (conv_1_5): Sequential(\n",
            "      (0): Conv2d(256, 32, kernel_size=(1, 1), stride=(1, 1))\n",
            "      (1): ReLU()\n",
            "      (2): Conv2d(32, 96, kernel_size=(5, 5), stride=(1, 1), padding=(2, 2))\n",
            "      (3): ReLU()\n",
            "    )\n",
            "    (max_3_1): Sequential(\n",
            "      (0): MaxPool2d(kernel_size=3, stride=1, padding=1, dilation=1, ceil_mode=False)\n",
            "      (1): Conv2d(256, 64, kernel_size=(1, 1), stride=(1, 1))\n",
            "      (2): ReLU()\n",
            "    )\n",
            "  )\n",
            "  (2): MaxPool2d(kernel_size=3, stride=2, padding=1, dilation=1, ceil_mode=False)\n",
            "))\n",
            "('layer_3', Sequential(\n",
            "  (0): inception_module(\n",
            "    (conv_1): Sequential(\n",
            "      (0): Conv2d(480, 192, kernel_size=(1, 1), stride=(1, 1))\n",
            "      (1): ReLU()\n",
            "    )\n",
            "    (conv_1_3): Sequential(\n",
            "      (0): Conv2d(480, 96, kernel_size=(1, 1), stride=(1, 1))\n",
            "      (1): ReLU()\n",
            "      (2): Conv2d(96, 208, kernel_size=(3, 3), stride=(1, 1), padding=(1, 1))\n",
            "      (3): ReLU()\n",
            "    )\n",
            "    (conv_1_5): Sequential(\n",
            "      (0): Conv2d(480, 16, kernel_size=(1, 1), stride=(1, 1))\n",
            "      (1): ReLU()\n",
            "      (2): Conv2d(16, 48, kernel_size=(5, 5), stride=(1, 1), padding=(2, 2))\n",
            "      (3): ReLU()\n",
            "    )\n",
            "    (max_3_1): Sequential(\n",
            "      (0): MaxPool2d(kernel_size=3, stride=1, padding=1, dilation=1, ceil_mode=False)\n",
            "      (1): Conv2d(480, 64, kernel_size=(1, 1), stride=(1, 1))\n",
            "      (2): ReLU()\n",
            "    )\n",
            "  )\n",
            "  (1): inception_module(\n",
            "    (conv_1): Sequential(\n",
            "      (0): Conv2d(512, 160, kernel_size=(1, 1), stride=(1, 1))\n",
            "      (1): ReLU()\n",
            "    )\n",
            "    (conv_1_3): Sequential(\n",
            "      (0): Conv2d(512, 112, kernel_size=(1, 1), stride=(1, 1))\n",
            "      (1): ReLU()\n",
            "      (2): Conv2d(112, 224, kernel_size=(3, 3), stride=(1, 1), padding=(1, 1))\n",
            "      (3): ReLU()\n",
            "    )\n",
            "    (conv_1_5): Sequential(\n",
            "      (0): Conv2d(512, 24, kernel_size=(1, 1), stride=(1, 1))\n",
            "      (1): ReLU()\n",
            "      (2): Conv2d(24, 64, kernel_size=(5, 5), stride=(1, 1), padding=(2, 2))\n",
            "      (3): ReLU()\n",
            "    )\n",
            "    (max_3_1): Sequential(\n",
            "      (0): MaxPool2d(kernel_size=3, stride=1, padding=1, dilation=1, ceil_mode=False)\n",
            "      (1): Conv2d(512, 64, kernel_size=(1, 1), stride=(1, 1))\n",
            "      (2): ReLU()\n",
            "    )\n",
            "  )\n",
            "  (2): inception_module(\n",
            "    (conv_1): Sequential(\n",
            "      (0): Conv2d(512, 128, kernel_size=(1, 1), stride=(1, 1))\n",
            "      (1): ReLU()\n",
            "    )\n",
            "    (conv_1_3): Sequential(\n",
            "      (0): Conv2d(512, 128, kernel_size=(1, 1), stride=(1, 1))\n",
            "      (1): ReLU()\n",
            "      (2): Conv2d(128, 256, kernel_size=(3, 3), stride=(1, 1), padding=(1, 1))\n",
            "      (3): ReLU()\n",
            "    )\n",
            "    (conv_1_5): Sequential(\n",
            "      (0): Conv2d(512, 24, kernel_size=(1, 1), stride=(1, 1))\n",
            "      (1): ReLU()\n",
            "      (2): Conv2d(24, 64, kernel_size=(5, 5), stride=(1, 1), padding=(2, 2))\n",
            "      (3): ReLU()\n",
            "    )\n",
            "    (max_3_1): Sequential(\n",
            "      (0): MaxPool2d(kernel_size=3, stride=1, padding=1, dilation=1, ceil_mode=False)\n",
            "      (1): Conv2d(512, 64, kernel_size=(1, 1), stride=(1, 1))\n",
            "      (2): ReLU()\n",
            "    )\n",
            "  )\n",
            "  (3): inception_module(\n",
            "    (conv_1): Sequential(\n",
            "      (0): Conv2d(512, 112, kernel_size=(1, 1), stride=(1, 1))\n",
            "      (1): ReLU()\n",
            "    )\n",
            "    (conv_1_3): Sequential(\n",
            "      (0): Conv2d(512, 144, kernel_size=(1, 1), stride=(1, 1))\n",
            "      (1): ReLU()\n",
            "      (2): Conv2d(144, 288, kernel_size=(3, 3), stride=(1, 1), padding=(1, 1))\n",
            "      (3): ReLU()\n",
            "    )\n",
            "    (conv_1_5): Sequential(\n",
            "      (0): Conv2d(512, 32, kernel_size=(1, 1), stride=(1, 1))\n",
            "      (1): ReLU()\n",
            "      (2): Conv2d(32, 64, kernel_size=(5, 5), stride=(1, 1), padding=(2, 2))\n",
            "      (3): ReLU()\n",
            "    )\n",
            "    (max_3_1): Sequential(\n",
            "      (0): MaxPool2d(kernel_size=3, stride=1, padding=1, dilation=1, ceil_mode=False)\n",
            "      (1): Conv2d(512, 64, kernel_size=(1, 1), stride=(1, 1))\n",
            "      (2): ReLU()\n",
            "    )\n",
            "  )\n",
            "  (4): inception_module(\n",
            "    (conv_1): Sequential(\n",
            "      (0): Conv2d(528, 256, kernel_size=(1, 1), stride=(1, 1))\n",
            "      (1): ReLU()\n",
            "    )\n",
            "    (conv_1_3): Sequential(\n",
            "      (0): Conv2d(528, 160, kernel_size=(1, 1), stride=(1, 1))\n",
            "      (1): ReLU()\n",
            "      (2): Conv2d(160, 320, kernel_size=(3, 3), stride=(1, 1), padding=(1, 1))\n",
            "      (3): ReLU()\n",
            "    )\n",
            "    (conv_1_5): Sequential(\n",
            "      (0): Conv2d(528, 32, kernel_size=(1, 1), stride=(1, 1))\n",
            "      (1): ReLU()\n",
            "      (2): Conv2d(32, 128, kernel_size=(5, 5), stride=(1, 1), padding=(2, 2))\n",
            "      (3): ReLU()\n",
            "    )\n",
            "    (max_3_1): Sequential(\n",
            "      (0): MaxPool2d(kernel_size=3, stride=1, padding=1, dilation=1, ceil_mode=False)\n",
            "      (1): Conv2d(528, 128, kernel_size=(1, 1), stride=(1, 1))\n",
            "      (2): ReLU()\n",
            "    )\n",
            "  )\n",
            "  (5): MaxPool2d(kernel_size=3, stride=2, padding=1, dilation=1, ceil_mode=False)\n",
            "))\n",
            "('layer_4', Sequential(\n",
            "  (0): inception_module(\n",
            "    (conv_1): Sequential(\n",
            "      (0): Conv2d(832, 256, kernel_size=(1, 1), stride=(1, 1))\n",
            "      (1): ReLU()\n",
            "    )\n",
            "    (conv_1_3): Sequential(\n",
            "      (0): Conv2d(832, 160, kernel_size=(1, 1), stride=(1, 1))\n",
            "      (1): ReLU()\n",
            "      (2): Conv2d(160, 320, kernel_size=(3, 3), stride=(1, 1), padding=(1, 1))\n",
            "      (3): ReLU()\n",
            "    )\n",
            "    (conv_1_5): Sequential(\n",
            "      (0): Conv2d(832, 32, kernel_size=(1, 1), stride=(1, 1))\n",
            "      (1): ReLU()\n",
            "      (2): Conv2d(32, 128, kernel_size=(5, 5), stride=(1, 1), padding=(2, 2))\n",
            "      (3): ReLU()\n",
            "    )\n",
            "    (max_3_1): Sequential(\n",
            "      (0): MaxPool2d(kernel_size=3, stride=1, padding=1, dilation=1, ceil_mode=False)\n",
            "      (1): Conv2d(832, 128, kernel_size=(1, 1), stride=(1, 1))\n",
            "      (2): ReLU()\n",
            "    )\n",
            "  )\n",
            "  (1): inception_module(\n",
            "    (conv_1): Sequential(\n",
            "      (0): Conv2d(832, 384, kernel_size=(1, 1), stride=(1, 1))\n",
            "      (1): ReLU()\n",
            "    )\n",
            "    (conv_1_3): Sequential(\n",
            "      (0): Conv2d(832, 192, kernel_size=(1, 1), stride=(1, 1))\n",
            "      (1): ReLU()\n",
            "      (2): Conv2d(192, 384, kernel_size=(3, 3), stride=(1, 1), padding=(1, 1))\n",
            "      (3): ReLU()\n",
            "    )\n",
            "    (conv_1_5): Sequential(\n",
            "      (0): Conv2d(832, 48, kernel_size=(1, 1), stride=(1, 1))\n",
            "      (1): ReLU()\n",
            "      (2): Conv2d(48, 128, kernel_size=(5, 5), stride=(1, 1), padding=(2, 2))\n",
            "      (3): ReLU()\n",
            "    )\n",
            "    (max_3_1): Sequential(\n",
            "      (0): MaxPool2d(kernel_size=3, stride=1, padding=1, dilation=1, ceil_mode=False)\n",
            "      (1): Conv2d(832, 128, kernel_size=(1, 1), stride=(1, 1))\n",
            "      (2): ReLU()\n",
            "    )\n",
            "  )\n",
            "  (2): AvgPool2d(kernel_size=7, stride=1, padding=0)\n",
            "))\n",
            "('layer_5', Dropout2d(p=0.4, inplace=False))\n",
            "('fc_layer', Linear(in_features=1024, out_features=2, bias=True))\n"
          ]
        }
      ]
    },
    {
      "cell_type": "markdown",
      "metadata": {
        "id": "Esp4j-JxenKB"
      },
      "source": [
        "## 5. Train"
      ]
    },
    {
      "cell_type": "code",
      "metadata": {
        "id": "of1ESb4OenKB",
        "outputId": "c69ad7d7-3b50-4004-90a5-a6cbabb1e170",
        "colab": {
          "base_uri": "https://localhost:8080/"
        }
      },
      "source": [
        "for i in range(num_epoch):\n",
        "    for j,[image,label] in enumerate(train_loader):\n",
        "        x = image.to(device)\n",
        "        y_= label.to(device)\n",
        "        \n",
        "        optimizer.zero_grad()\n",
        "        output = model.forward(x)\n",
        "        loss = loss_func(output,y_)\n",
        "        loss.backward()\n",
        "        optimizer.step()\n",
        "\n",
        "    if i % 10 ==0:\n",
        "        print(loss)"
      ],
      "execution_count": null,
      "outputs": [
        {
          "output_type": "stream",
          "name": "stdout",
          "text": [
            "tensor(0.6848, device='cuda:0', grad_fn=<NllLossBackward0>)\n",
            "tensor(0.8799, device='cuda:0', grad_fn=<NllLossBackward0>)\n",
            "tensor(1.0578, device='cuda:0', grad_fn=<NllLossBackward0>)\n",
            "tensor(1.0790, device='cuda:0', grad_fn=<NllLossBackward0>)\n",
            "tensor(1.0665, device='cuda:0', grad_fn=<NllLossBackward0>)\n",
            "tensor(1.0739, device='cuda:0', grad_fn=<NllLossBackward0>)\n",
            "tensor(1.1138, device='cuda:0', grad_fn=<NllLossBackward0>)\n",
            "tensor(0.4209, device='cuda:0', grad_fn=<NllLossBackward0>)\n",
            "tensor(0.5228, device='cuda:0', grad_fn=<NllLossBackward0>)\n",
            "tensor(0.5900, device='cuda:0', grad_fn=<NllLossBackward0>)\n"
          ]
        }
      ]
    },
    {
      "cell_type": "code",
      "metadata": {
        "id": "AkCCQW0Wf-MV"
      },
      "source": [],
      "execution_count": null,
      "outputs": []
    }
  ]
}