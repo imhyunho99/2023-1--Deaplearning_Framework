{
  "nbformat": 4,
  "nbformat_minor": 0,
  "metadata": {
    "colab": {
      "provenance": [],
      "include_colab_link": true
    },
    "kernelspec": {
      "name": "python3",
      "display_name": "Python 3"
    },
    "accelerator": "GPU"
  },
  "cells": [
    {
      "cell_type": "markdown",
      "metadata": {
        "id": "view-in-github",
        "colab_type": "text"
      },
      "source": [
        "<a href=\"https://colab.research.google.com/github/imhyunho99/2023-1--Deaplearning_Framework/blob/main/%EC%9D%B4%EB%AF%B8%EC%A7%80_%EB%8D%B0%EC%9D%B4%ED%84%B0%EB%A5%BC_%EB%8B%A8%EC%88%9C_%EC%9D%B8%EA%B3%B5%EC%8B%A0%EA%B2%BD%EB%A7%9D%EC%9C%BC%EB%A1%9C_%ED%95%99%EC%8A%B5%EC%8B%9C%EC%BC%9C_%EB%B3%B8_%EA%B2%B0%EA%B3%BC%EC%99%80_CNN.ipynb\" target=\"_parent\"><img src=\"https://colab.research.google.com/assets/colab-badge.svg\" alt=\"Open In Colab\"/></a>"
      ]
    },
    {
      "cell_type": "markdown",
      "metadata": {
        "id": "OXBDt5BUohvb"
      },
      "source": [
        "# 왜 컨볼루셔널 인공신경망이 필요할까? (Why Convolutional Neural Network?)\n",
        "- MNIST data\n",
        "- 인공신경망 만으로 어느정도 성능이 나오는지 확인해보자\n",
        "- 5.6 기본적인 합성곱 신경망 실습을 먼저보고 이 파일을 보시면 됩니다."
      ]
    },
    {
      "cell_type": "code",
      "metadata": {
        "id": "zLM0vhx3bAuo",
        "outputId": "f9ded4ed-b625-4c9a-b5f5-98842f75c5e7",
        "colab": {
          "base_uri": "https://localhost:8080/"
        }
      },
      "source": [
        "# 파이토치 및 토치비젼 설치\n",
        "# 런타임을 GPU 모드로 바꿔서 실행하세요\n",
        "!pip install torch torchvision"
      ],
      "execution_count": null,
      "outputs": [
        {
          "output_type": "stream",
          "name": "stdout",
          "text": [
            "Looking in indexes: https://pypi.org/simple, https://us-python.pkg.dev/colab-wheels/public/simple/\n",
            "Requirement already satisfied: torch in /usr/local/lib/python3.9/dist-packages (2.0.0+cu118)\n",
            "Requirement already satisfied: torchvision in /usr/local/lib/python3.9/dist-packages (0.15.1+cu118)\n",
            "Requirement already satisfied: sympy in /usr/local/lib/python3.9/dist-packages (from torch) (1.11.1)\n",
            "Requirement already satisfied: filelock in /usr/local/lib/python3.9/dist-packages (from torch) (3.10.7)\n",
            "Requirement already satisfied: typing-extensions in /usr/local/lib/python3.9/dist-packages (from torch) (4.5.0)\n",
            "Requirement already satisfied: networkx in /usr/local/lib/python3.9/dist-packages (from torch) (3.0)\n",
            "Requirement already satisfied: jinja2 in /usr/local/lib/python3.9/dist-packages (from torch) (3.1.2)\n",
            "Requirement already satisfied: triton==2.0.0 in /usr/local/lib/python3.9/dist-packages (from torch) (2.0.0)\n",
            "Requirement already satisfied: cmake in /usr/local/lib/python3.9/dist-packages (from triton==2.0.0->torch) (3.25.2)\n",
            "Requirement already satisfied: lit in /usr/local/lib/python3.9/dist-packages (from triton==2.0.0->torch) (16.0.0)\n",
            "Requirement already satisfied: numpy in /usr/local/lib/python3.9/dist-packages (from torchvision) (1.22.4)\n",
            "Requirement already satisfied: requests in /usr/local/lib/python3.9/dist-packages (from torchvision) (2.27.1)\n",
            "Requirement already satisfied: pillow!=8.3.*,>=5.3.0 in /usr/local/lib/python3.9/dist-packages (from torchvision) (8.4.0)\n",
            "Requirement already satisfied: MarkupSafe>=2.0 in /usr/local/lib/python3.9/dist-packages (from jinja2->torch) (2.1.2)\n",
            "Requirement already satisfied: idna<4,>=2.5 in /usr/local/lib/python3.9/dist-packages (from requests->torchvision) (3.4)\n",
            "Requirement already satisfied: urllib3<1.27,>=1.21.1 in /usr/local/lib/python3.9/dist-packages (from requests->torchvision) (1.26.15)\n",
            "Requirement already satisfied: certifi>=2017.4.17 in /usr/local/lib/python3.9/dist-packages (from requests->torchvision) (2022.12.7)\n",
            "Requirement already satisfied: charset-normalizer~=2.0.0 in /usr/local/lib/python3.9/dist-packages (from requests->torchvision) (2.0.12)\n",
            "Requirement already satisfied: mpmath>=0.19 in /usr/local/lib/python3.9/dist-packages (from sympy->torch) (1.3.0)\n"
          ]
        }
      ]
    },
    {
      "cell_type": "markdown",
      "metadata": {
        "id": "vk9kKX91ohvd"
      },
      "source": [
        "## 1. Setting\n",
        "### 1) Import Required Libraries"
      ]
    },
    {
      "cell_type": "code",
      "metadata": {
        "id": "OdpRgRx2ohve"
      },
      "source": [
        "import numpy as np\n",
        "import torch\n",
        "import torch.nn as nn\n",
        "import torch.optim as optim\n",
        "import torch.nn.init as init\n",
        "\n",
        "import torchvision.datasets as dset\n",
        "import torchvision.transforms as transforms\n",
        "from torch.utils.data import DataLoader\n",
        "\n",
        "import matplotlib.pyplot as plt"
      ],
      "execution_count": null,
      "outputs": []
    },
    {
      "cell_type": "markdown",
      "metadata": {
        "id": "0ye1YZslohvh"
      },
      "source": [
        "### 2) Set hyperparameters"
      ]
    },
    {
      "cell_type": "code",
      "metadata": {
        "id": "2Iq8gK6Wohvj"
      },
      "source": [
        "batch_size = 256\n",
        "learning_rate = 0.0002\n",
        "num_epoch = 10"
      ],
      "execution_count": null,
      "outputs": []
    },
    {
      "cell_type": "markdown",
      "metadata": {
        "id": "Q_XkuxPAohvl"
      },
      "source": [
        "## 3. Data Generation\n",
        "\n",
        "### 1) Download Data"
      ]
    },
    {
      "cell_type": "code",
      "metadata": {
        "id": "5aHXbj8Sohvn",
        "colab": {
          "base_uri": "https://localhost:8080/"
        },
        "outputId": "3e91072e-f543-401d-b4e0-3d4bf1a8561a"
      },
      "source": [
        "mnist_train = dset.MNIST(\"../\", train=True, transform=transforms.ToTensor(), target_transform=None, download=True)\n",
        "mnist_test = dset.MNIST(\"../\", train=False, transform=transforms.ToTensor(), target_transform=None, download=True)"
      ],
      "execution_count": null,
      "outputs": [
        {
          "output_type": "stream",
          "name": "stdout",
          "text": [
            "Downloading http://yann.lecun.com/exdb/mnist/train-images-idx3-ubyte.gz\n",
            "Downloading http://yann.lecun.com/exdb/mnist/train-images-idx3-ubyte.gz to ../MNIST/raw/train-images-idx3-ubyte.gz\n"
          ]
        },
        {
          "output_type": "stream",
          "name": "stderr",
          "text": [
            "100%|██████████| 9912422/9912422 [00:00<00:00, 101499979.85it/s]\n"
          ]
        },
        {
          "output_type": "stream",
          "name": "stdout",
          "text": [
            "Extracting ../MNIST/raw/train-images-idx3-ubyte.gz to ../MNIST/raw\n",
            "\n",
            "Downloading http://yann.lecun.com/exdb/mnist/train-labels-idx1-ubyte.gz\n",
            "Downloading http://yann.lecun.com/exdb/mnist/train-labels-idx1-ubyte.gz to ../MNIST/raw/train-labels-idx1-ubyte.gz\n"
          ]
        },
        {
          "output_type": "stream",
          "name": "stderr",
          "text": [
            "100%|██████████| 28881/28881 [00:00<00:00, 95307390.89it/s]\n"
          ]
        },
        {
          "output_type": "stream",
          "name": "stdout",
          "text": [
            "Extracting ../MNIST/raw/train-labels-idx1-ubyte.gz to ../MNIST/raw\n",
            "\n",
            "Downloading http://yann.lecun.com/exdb/mnist/t10k-images-idx3-ubyte.gz\n",
            "Downloading http://yann.lecun.com/exdb/mnist/t10k-images-idx3-ubyte.gz to ../MNIST/raw/t10k-images-idx3-ubyte.gz\n"
          ]
        },
        {
          "output_type": "stream",
          "name": "stderr",
          "text": [
            "100%|██████████| 1648877/1648877 [00:00<00:00, 25972935.28it/s]\n"
          ]
        },
        {
          "output_type": "stream",
          "name": "stdout",
          "text": [
            "Extracting ../MNIST/raw/t10k-images-idx3-ubyte.gz to ../MNIST/raw\n",
            "\n",
            "Downloading http://yann.lecun.com/exdb/mnist/t10k-labels-idx1-ubyte.gz\n",
            "Downloading http://yann.lecun.com/exdb/mnist/t10k-labels-idx1-ubyte.gz to ../MNIST/raw/t10k-labels-idx1-ubyte.gz\n"
          ]
        },
        {
          "output_type": "stream",
          "name": "stderr",
          "text": [
            "100%|██████████| 4542/4542 [00:00<00:00, 19761959.30it/s]\n"
          ]
        },
        {
          "output_type": "stream",
          "name": "stdout",
          "text": [
            "Extracting ../MNIST/raw/t10k-labels-idx1-ubyte.gz to ../MNIST/raw\n",
            "\n"
          ]
        }
      ]
    },
    {
      "cell_type": "markdown",
      "metadata": {
        "id": "83tBGhARohvp"
      },
      "source": [
        "### 2) Check Dataset"
      ]
    },
    {
      "cell_type": "code",
      "metadata": {
        "id": "7tdbPRzAohvq",
        "outputId": "cfce52e7-791e-4e41-b540-08c259497e6a",
        "colab": {
          "base_uri": "https://localhost:8080/"
        }
      },
      "source": [
        "print(mnist_train.__getitem__(0)[1], mnist_train.__len__())#[0] ==> image, [1] ==> label\n",
        "mnist_test.__getitem__(0)[1], mnist_test.__len__()"
      ],
      "execution_count": null,
      "outputs": [
        {
          "output_type": "stream",
          "name": "stdout",
          "text": [
            "5 60000\n"
          ]
        },
        {
          "output_type": "execute_result",
          "data": {
            "text/plain": [
              "(7, 10000)"
            ]
          },
          "metadata": {},
          "execution_count": 5
        }
      ]
    },
    {
      "cell_type": "markdown",
      "metadata": {
        "id": "bOuFr27kohvv"
      },
      "source": [
        "### 3) Set DataLoader"
      ]
    },
    {
      "cell_type": "code",
      "metadata": {
        "id": "ajAajpYyohvw"
      },
      "source": [
        "train_loader = torch.utils.data.DataLoader(mnist_train,batch_size=batch_size, shuffle=True,num_workers=2,drop_last=True)\n",
        "test_loader = torch.utils.data.DataLoader(mnist_test,batch_size=batch_size, shuffle=False,num_workers=2,drop_last=True)"
      ],
      "execution_count": null,
      "outputs": []
    },
    {
      "cell_type": "markdown",
      "metadata": {
        "id": "rdHKMx92ohvz"
      },
      "source": [
        "## 4. Model & Optimizer\n",
        "\n",
        "### 1) CNN Model"
      ]
    },
    {
      "cell_type": "code",
      "metadata": {
        "id": "LJI7aedTohv0"
      },
      "source": [
        "class Linear(nn.Module):\n",
        "    def __init__(self):\n",
        "        super(Linear,self).__init__()\n",
        "        self.layer = nn.Sequential(\n",
        "            nn.Linear(784,300),\n",
        "            nn.ReLU(),\n",
        "            nn.Linear(300,100),\n",
        "            nn.ReLU(),\n",
        "            nn.Linear(100,10),\n",
        "            nn.ReLU()\n",
        "        )       \n",
        "        \n",
        "    def forward(self,x):\n",
        "      #-1: 나머지 차원을 계산하고, 나머지 값, ex) x=512 벡터, out-> 256*2, 만약 x가 700이라면 Batch_size로 나누어 떨어지지 않아 Error corrupt\n",
        "\n",
        "        out = x.view(batch_size,-1)\n",
        "        #x : 256*1*28*28\n",
        "        #out : 256*784, -1대신 28*28해도 되긴하는데 혼남\n",
        "      \n",
        "        out = self.layer(out)\n",
        "\n",
        "        return out"
      ],
      "execution_count": null,
      "outputs": []
    },
    {
      "cell_type": "markdown",
      "metadata": {
        "id": "BHWWCaiUohv3"
      },
      "source": [
        "### 2) Loss func & Optimizer"
      ]
    },
    {
      "cell_type": "code",
      "metadata": {
        "id": "flhswN0Uohv3",
        "outputId": "1f1b1fee-5e07-4faf-d0a0-0716bb3b683a",
        "colab": {
          "base_uri": "https://localhost:8080/"
        }
      },
      "source": [
        "device = torch.device(\"cuda:0\" if torch.cuda.is_available() else \"cpu\")\n",
        "print(device)\n",
        "\n",
        "model = Linear().to(device)\n",
        "loss_func = nn.CrossEntropyLoss()\n",
        "optimizer = torch.optim.Adam(model.parameters(), lr=learning_rate)"
      ],
      "execution_count": null,
      "outputs": [
        {
          "output_type": "stream",
          "name": "stdout",
          "text": [
            "cuda:0\n"
          ]
        }
      ]
    },
    {
      "cell_type": "markdown",
      "metadata": {
        "id": "mShDV-Liohv7"
      },
      "source": [
        "## 5. Train "
      ]
    },
    {
      "cell_type": "code",
      "metadata": {
        "id": "8dFj39bvohv7",
        "outputId": "d7fdef9c-0349-4103-b876-028db2ce13ce",
        "colab": {
          "base_uri": "https://localhost:8080/"
        }
      },
      "source": [
        "loss_arr =[]\n",
        "for i in range(num_epoch):\n",
        "    for j,[image,label] in enumerate(train_loader):\n",
        "        x = image.to(device)\n",
        "        y_= label.to(device)\n",
        "        \n",
        "        optimizer.zero_grad()\n",
        "        output = model.forward(x)\n",
        "        loss = loss_func(output,y_)\n",
        "        loss.backward()\n",
        "        optimizer.step()\n",
        "        \n",
        "        if j % 1000 == 0:\n",
        "            print(loss)\n",
        "            loss_arr.append(loss.cpu().detach().numpy())"
      ],
      "execution_count": null,
      "outputs": [
        {
          "output_type": "stream",
          "name": "stdout",
          "text": [
            "tensor(2.3023, device='cuda:0', grad_fn=<NllLossBackward0>)\n",
            "tensor(0.5685, device='cuda:0', grad_fn=<NllLossBackward0>)\n",
            "tensor(0.5406, device='cuda:0', grad_fn=<NllLossBackward0>)\n",
            "tensor(0.4542, device='cuda:0', grad_fn=<NllLossBackward0>)\n",
            "tensor(0.3289, device='cuda:0', grad_fn=<NllLossBackward0>)\n",
            "tensor(0.2937, device='cuda:0', grad_fn=<NllLossBackward0>)\n",
            "tensor(0.3716, device='cuda:0', grad_fn=<NllLossBackward0>)\n",
            "tensor(0.4800, device='cuda:0', grad_fn=<NllLossBackward0>)\n",
            "tensor(0.3841, device='cuda:0', grad_fn=<NllLossBackward0>)\n",
            "tensor(0.2659, device='cuda:0', grad_fn=<NllLossBackward0>)\n"
          ]
        }
      ]
    },
    {
      "cell_type": "code",
      "metadata": {
        "id": "uIsJyQkbohv-"
      },
      "source": [
        "#param_list = list(model.parameters())\n",
        "#print(param_list)"
      ],
      "execution_count": null,
      "outputs": []
    },
    {
      "cell_type": "markdown",
      "metadata": {
        "id": "Zrzqj-D1ohwA"
      },
      "source": [
        "## 5. Visualize Training Loss"
      ]
    },
    {
      "cell_type": "code",
      "metadata": {
        "id": "lJcPdCfIohwA",
        "outputId": "613ea395-b084-46df-9e63-2e457774a819",
        "colab": {
          "base_uri": "https://localhost:8080/",
          "height": 430
        }
      },
      "source": [
        "plt.plot(loss_arr)\n",
        "plt.show()"
      ],
      "execution_count": null,
      "outputs": [
        {
          "output_type": "display_data",
          "data": {
            "text/plain": [
              "<Figure size 640x480 with 1 Axes>"
            ],
            "image/png": "[encoded data removed]"
          },
          "metadata": {}
        }
      ]
    },
    {
      "cell_type": "markdown",
      "metadata": {
        "id": "WL3QHLxQohwD"
      },
      "source": [
        "## 6. Test"
      ]
    },
    {
      "cell_type": "code",
      "metadata": {
        "id": "AWkcaRdwohwE",
        "outputId": "90d172b3-3f9a-4d16-a40d-69fb5c99de36",
        "colab": {
          "base_uri": "https://localhost:8080/"
        }
      },
      "source": [
        "correct = 0\n",
        "total = 0\n",
        "\n",
        "with torch.no_grad():\n",
        "  for image,label in test_loader:\n",
        "      x = image.to(device)\n",
        "      y_= label.to(device)\n",
        "\n",
        "      output = model.forward(x)\n",
        "      _,output_index = torch.max(output,1)\n",
        "\n",
        "      total += label.size(0)\n",
        "      correct += (output_index == y_).sum().float()\n",
        "\n",
        "  print(\"Accuracy of Test Data: {}\".format(100*correct/total))"
      ],
      "execution_count": null,
      "outputs": [
        {
          "output_type": "stream",
          "name": "stdout",
          "text": [
            "Accuracy of Test Data: 88.15103912353516\n"
          ]
        }
      ]
    },
    {
      "cell_type": "markdown",
      "source": [
        "##이미지 인식에서 위 모델이 보이는 한계\n",
        "\n",
        "\n",
        "\n",
        "1.   패턴을 인식하거나 학습하지 못함\n",
        "\n",
        "벡터로 나타내어 학습하기 때문에 패턴을 보지 못한다.\n",
        "\n",
        "<br/></br>\n",
        "\n",
        "\n",
        "\n",
        "2.   메모리 효율 저하와 성능의 한계\n",
        "\n",
        "위 예시는 28*28. 모니터만해도 2Mega Pix, hidden layter는 기하급수적으로 증가\n",
        "\n",
        "\n",
        "\n",
        "\n",
        "\n",
        "\n",
        "CNN(Convolution Neular Network) ==> 위 한계를 타파\n"
      ],
      "metadata": {
        "id": "SW-LLBai3cJf"
      }
    },
    {
      "cell_type": "markdown",
      "source": [
        "##**CNN(convolutio Neular Network)**\n",
        "\n",
        "\n",
        "\n",
        "*   커널\n",
        "\n",
        "Kernel = Filter = Weight\n",
        "\n",
        "병렬 연산으로 속도 ^, 패턴 파악^\n",
        "\n",
        "\n",
        "필터의 차원을 높이면 더 많은 병렬 처리 가능, 이미지 처리에 대한 속도 증폭\n",
        "\n",
        "이렇게 만들어진 특성(Feature)로 만든 행렬(Feature map)\n",
        "\n",
        "\n",
        "torch.nn.Conv2d(in_channels, out_channels, kernel_size,\n",
        "stride=1, padding=0, dilation=1, groups=1, bias=True, padding_mode='zeros')\n",
        "\n",
        "==> 파이토치 2차원 합성곱\n",
        "\n",
        "<br>\n",
        "<br>\n",
        "<br>\n",
        "\n",
        "*   패딩\n",
        "\n",
        "커널로 인한 원본 손실 방지 \n",
        "\n",
        "주변을 n(주로 0)으로 채운다. 커널로 찍어도 값의 손실이 없다.\n",
        "Feature map 유지\n",
        "\n",
        "\n",
        "가장자리의 특성이 패턴에 기여하는 정도를 일정하게 해준다. 픽셀간의 불평등 해소.\n",
        "\n",
        "nn.Conv2d(in_channels=1,out_channels=1,kernel_size=1,padding=1)\n",
        "\n",
        "==> 파이토치 2차원 패딩\n",
        "\n",
        "\n",
        "<br>\n",
        "<br>\n",
        "<br>\n",
        "\n",
        "*   스트라이드\n",
        "\n",
        "얼만큼 옆으로 가면서 연산할 것인가.\n",
        "\n",
        "nn.Conv2d(in_channels=1,out_channels=1,kernel_size=1,stride=5)\n",
        "\n",
        "==> 파이토치 2차원 스트라이드\n",
        "<br>\n",
        "\n",
        "<br>\n",
        "<br>\n",
        "\n",
        "*   풀링\n",
        "\n",
        "특징맵의 축소\n",
        "\n",
        "정보의 손실이 일어나지만 합성곱 계층이 증가하면 노드 수가 기하급수적으로 증가한다. 어차피 계층이 늘어나면 보완델테니 특징만 살리고 메모리를 낭비하지 말자.\n",
        "\n",
        "nn.MaxPool2d(kernel_size=2,stride=2)\n",
        "\n",
        "==> 파이토치 Max pool"
      ],
      "metadata": {
        "id": "343JFcazw88t"
      }
    }
  ]
}