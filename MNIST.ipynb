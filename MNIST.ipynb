{
  "nbformat": 4,
  "nbformat_minor": 0,
  "metadata": {
    "colab": {
      "private_outputs": true,
      "provenance": [],
      "include_colab_link": true
    },
    "kernelspec": {
      "name": "python3",
      "display_name": "Python 3"
    },
    "language_info": {
      "name": "python"
    },
    "accelerator": "GPU",
    "gpuClass": "standard"
  },
  "cells": [
    {
      "cell_type": "markdown",
      "metadata": {
        "id": "view-in-github",
        "colab_type": "text"
      },
      "source": [
        "<a href=\"https://colab.research.google.com/github/imhyunho99/2023-1--Deaplearning_Framework/blob/main/MNIST.ipynb\" target=\"_parent\"><img src=\"https://colab.research.google.com/assets/colab-badge.svg\" alt=\"Open In Colab\"/></a>"
      ]
    },
    {
      "cell_type": "code",
      "execution_count": null,
      "metadata": {
        "id": "o9k30Xvb-0Eo"
      },
      "outputs": [],
      "source": [
        "import numpy as np\n",
        "import matplotlib.pyplot as plt\n",
        "import torch\n",
        "import torch.nn as nn\n",
        "import torch.nn.functional as F\n",
        "import torch.nn.init as init\n",
        "import torchvision\n",
        "from torchvision import transforms, datasets\n",
        "%matplotlib inline"
      ]
    },
    {
      "cell_type": "code",
      "source": [
        "DEVICE = torch.device('cuda:0') if torch.cuda.is_available() else torch.device('cpu')\n",
        "# if torch.cuda.is_available():\n",
        "#     DEVICE = torch.device('cuda:0')\n",
        "# else:\n",
        "#     DEVICE = torch.device('cpu')\n",
        "print('Using PyTorch version: ', torch.__version__, 'Device: ', DEVICE)"
      ],
      "metadata": {
        "id": "B2cwIFlS_Izz"
      },
      "execution_count": null,
      "outputs": []
    },
    {
      "cell_type": "code",
      "source": [
        "BATCH_SIZE = 32\n",
        "\n",
        "train_dataset = datasets.MNIST(\n",
        "    root=\"../data/MNIST\",\n",
        "    train=True,\n",
        "    download=True,\n",
        "    transform=transforms.ToTensor()\n",
        ")\n",
        "test_dataset = datasets.MNIST(\n",
        "    root=\"../data/MNIST\",\n",
        "    train=False,\n",
        "    download=True,\n",
        "    transform=transforms.ToTensor()\n",
        ")\n",
        "train_loader = torch.utils.data.DataLoader(\n",
        "    dataset=train_dataset,\n",
        "    batch_size=BATCH_SIZE,\n",
        "    shuffle=True\n",
        ")\n",
        "test_loader = torch.utils.data.DataLoader(\n",
        "    dataset=test_dataset,\n",
        "    batch_size=BATCH_SIZE,\n",
        "    shuffle=False\n",
        ")"
      ],
      "metadata": {
        "id": "EQ7UEDAk_TPP"
      },
      "execution_count": null,
      "outputs": []
    },
    {
      "cell_type": "code",
      "source": [
        "for (images, labels) in train_loader:\n",
        "    print('images: ', images.size(), 'type: ', images.type())\n",
        "    print('labels: ', labels.size(), 'type: ', labels.type())\n",
        "    break"
      ],
      "metadata": {
        "id": "5J-4VSBM_zjR"
      },
      "execution_count": null,
      "outputs": []
    },
    {
      "cell_type": "code",
      "source": [
        "images, labels = next(iter(train_loader))\n",
        "print('images: ', images.size(), 'type: ', images.type())\n",
        "print('labels: ', labels.size(), 'type: ', labels.type())"
      ],
      "metadata": {
        "id": "f4lq3LGqAFr9"
      },
      "execution_count": null,
      "outputs": []
    },
    {
      "cell_type": "code",
      "source": [
        "idx = 7\n",
        "img = np.squeeze(images[idx].numpy())\n",
        "\n",
        "fig = plt.figure(figsize = (12,12)) \n",
        "ax = fig.add_subplot(111)\n",
        "ax.imshow(img, cmap='gray')\n",
        "width, height = img.shape\n",
        "thresh = img.max()/2.5\n",
        "for x in range(width):\n",
        "    for y in range(height):\n",
        "        val = round(img[x][y],2) if img[x][y] !=0 else 0\n",
        "        ax.annotate(str(val), xy=(y,x),\n",
        "                    horizontalalignment='center',\n",
        "                    verticalalignment='center',\n",
        "                    color='white' if img[x][y]<thresh else 'black')"
      ],
      "metadata": {
        "id": "T-nUGAO2Fkxq"
      },
      "execution_count": null,
      "outputs": []
    },
    {
      "cell_type": "code",
      "source": [
        "idx = 2\n",
        "plt.imshow(np.squeeze(images[idx]), cmap='gray')\n",
        "plt.title(str(labels[idx].item()))"
      ],
      "metadata": {
        "id": "gaVH-qjNEb18"
      },
      "execution_count": null,
      "outputs": []
    },
    {
      "cell_type": "code",
      "source": [
        "fig = plt.figure(figsize=(20, 8))\n",
        "for idx in np.arange(BATCH_SIZE):\n",
        "    ax = fig.add_subplot(4, int(BATCH_SIZE/4), idx+1, xticks=[], yticks=[])\n",
        "    ax.imshow(np.squeeze(images[idx]), cmap='gray')\n",
        "    ax.set_title(str(labels[idx].item()))"
      ],
      "metadata": {
        "id": "sfBB5uJnE69g"
      },
      "execution_count": null,
      "outputs": []
    },
    {
      "cell_type": "code",
      "source": [
        "def imshow(img):\n",
        "    npimg = img.numpy()\n",
        "    plt.axis('off')\n",
        "    plt.imshow(np.transpose(npimg, (1, 2, 0)))\n",
        "    plt.show()"
      ],
      "metadata": {
        "id": "wvKf7vAxANq7"
      },
      "execution_count": null,
      "outputs": []
    },
    {
      "cell_type": "code",
      "source": [
        "images, labels = next(iter(train_loader))\n",
        "imshow(torchvision.utils.make_grid(images))"
      ],
      "metadata": {
        "id": "XTTucnBeAchO"
      },
      "execution_count": null,
      "outputs": []
    },
    {
      "cell_type": "code",
      "source": [
        "class MLP(nn.Module):\n",
        "    def __init__(self):\n",
        "        super(MLP, self).__init__()\n",
        "        self.fc1 = nn.Linear(28 * 28, 512)\n",
        "        self.fc2 = nn.Linear(512, 256)\n",
        "        self.fc3 = nn.Linear(256, 10)\n",
        "        #fc정의\n",
        "\n",
        "    def forward(self, x):\n",
        "        x = x.view(-1, 28 * 28)\n",
        "        x = self.fc1(x)\n",
        "        x = F.relu(x)\n",
        "        x = self.fc2(x)\n",
        "        x = F.relu(x)\n",
        "        x = self.fc3(x)\n",
        "        x = F.log_softmax(x, dim=1)\n",
        "        return x\n",
        "    #정의에 대한 그들의 Link 설정 784 => 512 => 256 => 10, 100개의 데이터라고 하면 그들은 각각에 영향을 주지 않고 독립적으로 연산."
      ],
      "metadata": {
        "id": "k-GuFeKfBAm3"
      },
      "execution_count": null,
      "outputs": []
    },
    {
      "cell_type": "code",
      "source": [
        "def weight_init(m):\n",
        "    if isinstance(m, nn.Linear):\n",
        "        init.xavier_uniform_(m.weight.data)\n",
        "\n",
        "model = MLP().to(DEVICE)\n",
        "model.apply(weight_init)\n",
        "optimizer = torch.optim.Adam(model.parameters(), lr=0.01)\n",
        "loss_fn = nn.CrossEntropyLoss()"
      ],
      "metadata": {
        "id": "WtF1YUKKBnMe"
      },
      "execution_count": null,
      "outputs": []
    },
    {
      "cell_type": "code",
      "source": [
        "def train(model, train_loader, optimizer):\n",
        "    model.train()\n",
        "    train_loss = 0\n",
        "    correct = 0\n",
        "    for batch_idx, (image, label) in enumerate(train_loader):\n",
        "        image = image.to(DEVICE)\n",
        "        label = label.to(DEVICE)\n",
        "        optimizer.zero_grad() \n",
        "        output = model(image) \n",
        "        loss = loss_fn(output, label) \n",
        "        train_loss += loss_fn(output, label).item()\n",
        "        prediction = output.max(1, keepdim=True)[1]\n",
        "        correct += prediction.eq(label.view_as(prediction)).sum().item()\n",
        "        loss.backward() \n",
        "        optimizer.step() \n",
        "\n",
        "    train_loss /= len(train_loader.dataset)\n",
        "    train_accuracy = 100. * correct / len(train_loader.dataset)\n",
        "  \n",
        "    return train_loss, train_accuracy"
      ],
      "metadata": {
        "id": "2Pfyl2peCPvX"
      },
      "execution_count": null,
      "outputs": []
    },
    {
      "cell_type": "code",
      "source": [
        "def evaluate(model, test_loader):\n",
        "    model.eval()\n",
        "    test_loss = 0\n",
        "    correct = 0\n",
        "\n",
        "    with torch.no_grad():#평가이기 때문에 grad는 사용하지 않는다. 속도^\n",
        "        for image, label in test_loader:\n",
        "            image = image.to(DEVICE)\n",
        "            label = label.to(DEVICE)\n",
        "            output = model(image)#output 중 가장 큰 확률을 객체라고 생각한다.\n",
        "            test_loss += loss_fn(output, label).item()\n",
        "            prediction = output.max(1, keepdim=True)[1]\n",
        "            correct += prediction.eq(label.view_as(prediction)).sum().item()\n",
        "    \n",
        "    test_loss /= len(test_loader.dataset)\n",
        "    test_accuracy = 100. * correct / len(test_loader.dataset)\n",
        "    return test_loss, test_accuracy#loss and eval return"
      ],
      "metadata": {
        "id": "CZ772zaMCkn4"
      },
      "execution_count": null,
      "outputs": []
    },
    {
      "cell_type": "code",
      "source": [
        "EPOCHS = 30\n",
        "for epoch in range(1, EPOCHS + 1):\n",
        "    train_loss,train_accuracy = train(model, train_loader, optimizer)\n",
        "    test_loss, test_accuracy = evaluate(model, test_loader)\n",
        "    print(\"[EPOCH: {}], \\tTrain Loss: {:.4f}, \\tTrain Accuracy: {:.2f}%, \\tTest Loss: {:.4f}, \\tTest Accuracy: {:.2f} %\".format(\n",
        "        epoch, train_loss, train_accuracy, test_loss, test_accuracy\n",
        "    ))"
      ],
      "metadata": {
        "id": "FU9KFrHKCp9w"
      },
      "execution_count": null,
      "outputs": []
    },
    {
      "cell_type": "code",
      "source": [
        "images, labels = next(iter(test_loader))\n",
        "images = images.to(DEVICE)\n",
        "labels = labels.to(DEVICE)\n",
        "\n",
        "output = model(images)\n",
        "_, preds = torch.max(output, 1)\n",
        "images = images.cpu().numpy()\n",
        "\n",
        "# plot the images in the batch, along with predicted and true labels\n",
        "fig = plt.figure(figsize=(20, 8))\n",
        "for idx in np.arange(BATCH_SIZE):\n",
        "    ax = fig.add_subplot(4, int(BATCH_SIZE/4), idx+1, xticks=[], yticks=[])\n",
        "    ax.imshow(np.squeeze(images[idx]), cmap='gray')\n",
        "    ax.set_title(\"{} ({})\".format(str(preds[idx].item()), str(labels[idx].item())),#정답과 예측값값\n",
        "                 color=(\"green\" if preds[idx]==labels[idx] else \"red\"))"
      ],
      "metadata": {
        "id": "iZ9HVnzdCz9n"
      },
      "execution_count": null,
      "outputs": []
    },
    {
      "cell_type": "code",
      "source": [],
      "metadata": {
        "id": "UTNUIfGRHarc"
      },
      "execution_count": null,
      "outputs": []
    }
  ]
}