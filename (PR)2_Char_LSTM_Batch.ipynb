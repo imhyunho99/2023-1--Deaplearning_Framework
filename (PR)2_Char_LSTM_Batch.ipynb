{
  "nbformat": 4,
  "nbformat_minor": 0,
  "metadata": {
    "colab": {
      "provenance": [],
      "include_colab_link": true
    },
    "kernelspec": {
      "display_name": "Python 3",
      "language": "python",
      "name": "python3"
    },
    "accelerator": "GPU",
    "gpuClass": "standard"
  },
  "cells": [
    {
      "cell_type": "markdown",
      "metadata": {
        "id": "view-in-github",
        "colab_type": "text"
      },
      "source": [
        "<a href=\"https://colab.research.google.com/github/imhyunho99/2023-1--Deaplearning_Framework/blob/main/(PR)2_Char_LSTM_Batch.ipynb\" target=\"_parent\"><img src=\"https://colab.research.google.com/assets/colab-badge.svg\" alt=\"Open In Colab\"/></a>"
      ]
    },
    {
      "cell_type": "code",
      "metadata": {
        "id": "1skF3eRZDTPk"
      },
      "source": [
        "# 이번 코드는 Batch_First 모드로 구현했습니다.\n",
        "\n",
        "import torch \n",
        "import torch.nn as nn\n",
        "import torch.optim as optim\n",
        "import numpy as np"
      ],
      "execution_count": null,
      "outputs": []
    },
    {
      "cell_type": "code",
      "metadata": {
        "id": "VjbTqHEvDTPu",
        "outputId": "462546b2-8098-4577-9bee-eff0abca5a77",
        "colab": {
          "base_uri": "https://localhost:8080/"
        }
      },
      "source": [
        "# Preprocessing string data\n",
        "# alphabet(0-25), space(26), start(27), end(28) -> 29 chars (0-28)\n",
        "\n",
        "string = \"hello pytorch. how long can a rnn cell remember? show me your limit!\"\n",
        "chars = \"abcdefghijklmnopqrstuvwxyz ?!.,:;01\"\n",
        "char_list = [i for i in chars]\n",
        "char_len = len(char_list)\n",
        "\n",
        "char_len"
      ],
      "execution_count": null,
      "outputs": [
        {
          "output_type": "execute_result",
          "data": {
            "text/plain": [
              "35"
            ]
          },
          "metadata": {},
          "execution_count": 2
        }
      ]
    },
    {
      "cell_type": "code",
      "metadata": {
        "id": "dHOzcFMJDTP5"
      },
      "source": [
        "# String to onehot vector\n",
        "# a -> [1 0 0 ... 0 0]\n",
        "\n",
        "def string_to_onehot(string):\n",
        "    start = np.zeros(shape=char_len ,dtype=int)\n",
        "    end = np.zeros(shape=char_len ,dtype=int)\n",
        "    start[-2] = 1\n",
        "    end[-1] = 1\n",
        "    for i in string:\n",
        "        idx = char_list.index(i)\n",
        "        zero = np.zeros(shape=char_len ,dtype=int)\n",
        "        zero[idx]=1\n",
        "        start = np.vstack([start,zero])\n",
        "    output = np.vstack([start,end])\n",
        "    return output"
      ],
      "execution_count": null,
      "outputs": []
    },
    {
      "cell_type": "code",
      "metadata": {
        "id": "cZ4Qiz8SDTP8"
      },
      "source": [
        "# Onehot vector to word\n",
        "# [1 0 0 ... 0 0] -> a \n",
        "\n",
        "def onehot_to_word(onehot_1):\n",
        "    onehot = torch.Tensor.numpy(onehot_1)\n",
        "    return char_list[onehot.argmax()]"
      ],
      "execution_count": null,
      "outputs": []
    },
    {
      "cell_type": "code",
      "metadata": {
        "id": "8Qg3dEcdDTP_",
        "outputId": "e3c3be4a-6637-497f-befc-e1ed27207593",
        "colab": {
          "base_uri": "https://localhost:8080/"
        }
      },
      "source": [
        "# 하이퍼파라미터 설정\n",
        "# 이번코드는 배치사이즈가 1보다 큰 경우에 대해 만들었습니다.\n",
        "batch_size = 5\n",
        "\n",
        "# seq_len는 바꿔도 학습은 되지만 테스트시 편의성을 위해 1로 설정했습니다.\n",
        "seq_len = 1\n",
        "\n",
        "# num_layers는 자유롭게 바꿀 수 있습니다.\n",
        "num_layers = 3\n",
        "input_size = char_len\n",
        "hidden_size = 35 \n",
        "lr = 0.01\n",
        "num_epochs = 1000\n",
        "\n",
        "one_hot = torch.from_numpy(string_to_onehot(string)).type_as(torch.FloatTensor())\n",
        "\n",
        "print(one_hot.size())"
      ],
      "execution_count": null,
      "outputs": [
        {
          "output_type": "stream",
          "name": "stdout",
          "text": [
            "torch.Size([70, 35])\n"
          ]
        }
      ]
    },
    {
      "cell_type": "code",
      "metadata": {
        "id": "MYIumx3bDTQD"
      },
      "source": [
        "# RNN with 1 hidden layer\n",
        "\n",
        "class RNN(nn.Module):\n",
        "    def __init__(self, input_size, hidden_size,num_layers):\n",
        "        super(RNN, self).__init__()\n",
        "        self.input_size = input_size\n",
        "        self.hidden_size = hidden_size\n",
        "        self.num_layers = num_layers\n",
        "        self.lstm = nn.LSTM(input_size, hidden_size, num_layers, batch_first=True)\n",
        "        \n",
        "    def forward(self,input,hidden,cell):\n",
        "        output,(hidden,cell) = self.lstm(input,(hidden,cell))\n",
        "        return output,hidden,cell\n",
        "    \n",
        "    def init_hidden_cell(self):\n",
        "        hidden = torch.zeros(num_layers, batch_size, hidden_size)\n",
        "        cell = torch.zeros(num_layers, batch_size, hidden_size)\n",
        "        return hidden,cell\n",
        "    \n",
        "rnn = RNN(input_size,hidden_size, num_layers)"
      ],
      "execution_count": null,
      "outputs": []
    },
    {
      "cell_type": "code",
      "metadata": {
        "id": "7Ik03eJSDTQG"
      },
      "source": [
        "# Loss function & Optimizer\n",
        "\n",
        "loss_func = nn.MSELoss()\n",
        "optimizer = torch.optim.Adam(rnn.parameters(), lr=lr)"
      ],
      "execution_count": null,
      "outputs": []
    },
    {
      "cell_type": "code",
      "metadata": {
        "scrolled": true,
        "id": "K_QtY_c0DTQJ",
        "outputId": "9086c98a-a9ac-45ad-9282-233ef984f193",
        "colab": {
          "base_uri": "https://localhost:8080/"
        }
      },
      "source": [
        "j=0\n",
        "input_data = one_hot[j:j+batch_size].view(batch_size,seq_len,input_size)\n",
        "print(input_data.size())\n",
        "\n",
        "hidden,cell = rnn.init_hidden_cell()\n",
        "print(hidden.size(),cell.size())\n",
        "\n",
        "output,hidden,cell = rnn(input_data,hidden,cell)\n",
        "print(output.size(),hidden.size(),cell.size())\n",
        "\n"
      ],
      "execution_count": null,
      "outputs": [
        {
          "output_type": "stream",
          "name": "stdout",
          "text": [
            "torch.Size([5, 1, 35])\n",
            "torch.Size([3, 5, 35]) torch.Size([3, 5, 35])\n",
            "torch.Size([5, 1, 35]) torch.Size([3, 5, 35]) torch.Size([3, 5, 35])\n"
          ]
        }
      ]
    },
    {
      "cell_type": "code",
      "metadata": {
        "id": "V71ND6PXD9CM",
        "outputId": "7e1a4401-7b87-4def-d293-5d41f9f1d31e",
        "colab": {
          "base_uri": "https://localhost:8080/"
        }
      },
      "source": [
        "unroll_len = one_hot.size()[0]//seq_len -1\n",
        "for i in range(num_epochs):\n",
        "    optimizer.zero_grad()\n",
        "    hidden,cell = rnn.init_hidden_cell()\n",
        "    \n",
        "    loss = 0\n",
        "    for j in range(unroll_len-batch_size+1):\n",
        "        \n",
        "        # batch size에 맞게 one-hot 벡터를 스택 합니다.\n",
        "        # 예를 들어 batch size가 3이면 pytorch에서 pyt를 one-hot 벡터로 바꿔서 쌓고\n",
        "        # 목표값으로 yto를 one-hot 벡터로 바꿔서 쌓는 과정입니다.\n",
        "        input_data = torch.stack([one_hot[j+k:j+k+seq_len] for k in range(batch_size)],dim=0)\n",
        "        label = torch.stack([one_hot[j+k+1:j+k+seq_len+1] for k in range(batch_size)],dim=0)\n",
        "        \n",
        "        input_data = input_data\n",
        "        label = label\n",
        "        \n",
        "        output, hidden, cell = rnn(input_data,hidden,cell)\n",
        "        loss += loss_func(output.view(1,-1),label.view(1,-1))\n",
        "        \n",
        "    loss.backward()\n",
        "    optimizer.step()\n",
        "\n",
        "    if i % 10 == 0:\n",
        "        print(loss)"
      ],
      "execution_count": null,
      "outputs": [
        {
          "output_type": "stream",
          "name": "stdout",
          "text": [
            "tensor(2.2964, grad_fn=<AddBackward0>)\n",
            "tensor(1.7050, grad_fn=<AddBackward0>)\n",
            "tensor(1.6302, grad_fn=<AddBackward0>)\n",
            "tensor(1.4942, grad_fn=<AddBackward0>)\n",
            "tensor(1.2585, grad_fn=<AddBackward0>)\n",
            "tensor(0.9254, grad_fn=<AddBackward0>)\n",
            "tensor(0.6147, grad_fn=<AddBackward0>)\n",
            "tensor(0.2815, grad_fn=<AddBackward0>)\n",
            "tensor(0.1354, grad_fn=<AddBackward0>)\n",
            "tensor(0.0813, grad_fn=<AddBackward0>)\n",
            "tensor(0.0567, grad_fn=<AddBackward0>)\n",
            "tensor(0.0427, grad_fn=<AddBackward0>)\n",
            "tensor(0.0347, grad_fn=<AddBackward0>)\n",
            "tensor(0.0315, grad_fn=<AddBackward0>)\n",
            "tensor(0.0274, grad_fn=<AddBackward0>)\n",
            "tensor(0.0243, grad_fn=<AddBackward0>)\n",
            "tensor(0.0219, grad_fn=<AddBackward0>)\n",
            "tensor(0.0199, grad_fn=<AddBackward0>)\n",
            "tensor(0.0184, grad_fn=<AddBackward0>)\n",
            "tensor(0.0179, grad_fn=<AddBackward0>)\n",
            "tensor(0.0167, grad_fn=<AddBackward0>)\n",
            "tensor(0.0156, grad_fn=<AddBackward0>)\n",
            "tensor(0.0149, grad_fn=<AddBackward0>)\n",
            "tensor(0.0143, grad_fn=<AddBackward0>)\n",
            "tensor(0.0139, grad_fn=<AddBackward0>)\n",
            "tensor(0.0135, grad_fn=<AddBackward0>)\n",
            "tensor(0.0133, grad_fn=<AddBackward0>)\n",
            "tensor(0.0129, grad_fn=<AddBackward0>)\n",
            "tensor(0.0127, grad_fn=<AddBackward0>)\n",
            "tensor(0.0125, grad_fn=<AddBackward0>)\n",
            "tensor(0.0124, grad_fn=<AddBackward0>)\n",
            "tensor(0.0123, grad_fn=<AddBackward0>)\n",
            "tensor(0.0121, grad_fn=<AddBackward0>)\n",
            "tensor(0.0119, grad_fn=<AddBackward0>)\n",
            "tensor(0.0118, grad_fn=<AddBackward0>)\n",
            "tensor(0.0116, grad_fn=<AddBackward0>)\n",
            "tensor(0.0113, grad_fn=<AddBackward0>)\n",
            "tensor(0.0105, grad_fn=<AddBackward0>)\n",
            "tensor(0.0102, grad_fn=<AddBackward0>)\n",
            "tensor(0.0101, grad_fn=<AddBackward0>)\n",
            "tensor(0.0100, grad_fn=<AddBackward0>)\n",
            "tensor(0.0099, grad_fn=<AddBackward0>)\n",
            "tensor(0.0102, grad_fn=<AddBackward0>)\n",
            "tensor(0.0098, grad_fn=<AddBackward0>)\n",
            "tensor(0.0097, grad_fn=<AddBackward0>)\n",
            "tensor(0.0097, grad_fn=<AddBackward0>)\n",
            "tensor(0.0096, grad_fn=<AddBackward0>)\n",
            "tensor(0.0096, grad_fn=<AddBackward0>)\n",
            "tensor(0.0095, grad_fn=<AddBackward0>)\n",
            "tensor(0.0095, grad_fn=<AddBackward0>)\n",
            "tensor(0.0094, grad_fn=<AddBackward0>)\n",
            "tensor(0.0094, grad_fn=<AddBackward0>)\n",
            "tensor(0.0094, grad_fn=<AddBackward0>)\n",
            "tensor(0.0099, grad_fn=<AddBackward0>)\n",
            "tensor(0.0094, grad_fn=<AddBackward0>)\n",
            "tensor(0.0093, grad_fn=<AddBackward0>)\n",
            "tensor(0.0093, grad_fn=<AddBackward0>)\n",
            "tensor(0.0092, grad_fn=<AddBackward0>)\n",
            "tensor(0.0092, grad_fn=<AddBackward0>)\n",
            "tensor(0.0091, grad_fn=<AddBackward0>)\n",
            "tensor(0.0091, grad_fn=<AddBackward0>)\n",
            "tensor(0.0091, grad_fn=<AddBackward0>)\n",
            "tensor(0.0091, grad_fn=<AddBackward0>)\n",
            "tensor(0.0090, grad_fn=<AddBackward0>)\n",
            "tensor(0.0090, grad_fn=<AddBackward0>)\n",
            "tensor(0.0090, grad_fn=<AddBackward0>)\n",
            "tensor(0.0090, grad_fn=<AddBackward0>)\n",
            "tensor(0.0095, grad_fn=<AddBackward0>)\n",
            "tensor(0.0090, grad_fn=<AddBackward0>)\n",
            "tensor(0.0090, grad_fn=<AddBackward0>)\n",
            "tensor(0.0089, grad_fn=<AddBackward0>)\n",
            "tensor(0.0089, grad_fn=<AddBackward0>)\n",
            "tensor(0.0089, grad_fn=<AddBackward0>)\n",
            "tensor(0.0089, grad_fn=<AddBackward0>)\n",
            "tensor(0.0089, grad_fn=<AddBackward0>)\n",
            "tensor(0.0088, grad_fn=<AddBackward0>)\n",
            "tensor(0.0088, grad_fn=<AddBackward0>)\n",
            "tensor(0.0088, grad_fn=<AddBackward0>)\n",
            "tensor(0.0088, grad_fn=<AddBackward0>)\n",
            "tensor(0.0088, grad_fn=<AddBackward0>)\n",
            "tensor(0.0088, grad_fn=<AddBackward0>)\n",
            "tensor(0.0088, grad_fn=<AddBackward0>)\n",
            "tensor(0.0088, grad_fn=<AddBackward0>)\n",
            "tensor(0.0087, grad_fn=<AddBackward0>)\n",
            "tensor(0.0087, grad_fn=<AddBackward0>)\n",
            "tensor(0.0087, grad_fn=<AddBackward0>)\n",
            "tensor(0.0087, grad_fn=<AddBackward0>)\n",
            "tensor(0.0092, grad_fn=<AddBackward0>)\n",
            "tensor(0.0088, grad_fn=<AddBackward0>)\n",
            "tensor(0.0087, grad_fn=<AddBackward0>)\n",
            "tensor(0.0087, grad_fn=<AddBackward0>)\n",
            "tensor(0.0087, grad_fn=<AddBackward0>)\n",
            "tensor(0.0086, grad_fn=<AddBackward0>)\n",
            "tensor(0.0086, grad_fn=<AddBackward0>)\n",
            "tensor(0.0086, grad_fn=<AddBackward0>)\n",
            "tensor(0.0086, grad_fn=<AddBackward0>)\n",
            "tensor(0.0086, grad_fn=<AddBackward0>)\n",
            "tensor(0.0086, grad_fn=<AddBackward0>)\n",
            "tensor(0.0086, grad_fn=<AddBackward0>)\n",
            "tensor(0.0086, grad_fn=<AddBackward0>)\n"
          ]
        }
      ]
    },
    {
      "cell_type": "code",
      "metadata": {
        "id": "LyafHep4DTQP",
        "outputId": "630d8edc-6988-48a5-e7b3-15140c97b086",
        "colab": {
          "base_uri": "https://localhost:8080/"
        }
      },
      "source": [
        "hidden,cell = rnn.init_hidden_cell()\n",
        "\n",
        "for j in range(unroll_len-batch_size+1):\n",
        "    input_data = torch.stack([one_hot[j+k:j+k+seq_len] for k in range(batch_size)],dim=0)\n",
        "    label = torch.stack([one_hot[j+k+1:j+k+seq_len+1] for k in range(batch_size)],dim=0)\n",
        "\n",
        "    input_data = input_data\n",
        "    label = label\n",
        "    \n",
        "    output, hidden, cell = rnn(input_data,hidden,cell)\n",
        "    for k in range(batch_size):\n",
        "        print(onehot_to_word(output[k].data),end=\"\")\n",
        "        if j < unroll_len-batch_size:\n",
        "            break\n"
      ],
      "execution_count": null,
      "outputs": [
        {
          "output_type": "stream",
          "name": "stdout",
          "text": [
            "hello pytorch. how long can a rnn cell remember? show me your limit!1"
          ]
        }
      ]
    },
    {
      "cell_type": "code",
      "metadata": {
        "id": "pwQHzX-gEIoD"
      },
      "source": [],
      "execution_count": null,
      "outputs": []
    }
  ]
}